{
  "nbformat": 4,
  "nbformat_minor": 0,
  "metadata": {
    "colab": {
      "name": "fruits360.ipynb",
      "provenance": [],
      "collapsed_sections": [],
      "include_colab_link": true
    },
    "kernelspec": {
      "name": "python3",
      "display_name": "Python 3"
    }
  },
  "cells": [
    {
      "cell_type": "markdown",
      "metadata": {
        "id": "view-in-github",
        "colab_type": "text"
      },
      "source": [
        "<a href=\"https://colab.research.google.com/github/daoudecho/Enter-to-TensorFlow/blob/master/fruits360.ipynb\" target=\"_parent\"><img src=\"https://colab.research.google.com/assets/colab-badge.svg\" alt=\"Open In Colab\"/></a>"
      ]
    },
    {
      "cell_type": "code",
      "metadata": {
        "id": "uKrJI0LQ4pJM",
        "colab_type": "code",
        "outputId": "05aef21c-e06b-47d3-e753-6bd9b0905f5d",
        "colab": {
          "base_uri": "https://localhost:8080/",
          "height": 202
        }
      },
      "source": [
        "!pip install kaggle  # installing kaggel"
      ],
      "execution_count": 0,
      "outputs": [
        {
          "output_type": "stream",
          "text": [
            "Requirement already satisfied: kaggle in /usr/local/lib/python3.6/dist-packages (1.5.5)\n",
            "Requirement already satisfied: urllib3<1.25,>=1.21.1 in /usr/local/lib/python3.6/dist-packages (from kaggle) (1.24.3)\n",
            "Requirement already satisfied: requests in /usr/local/lib/python3.6/dist-packages (from kaggle) (2.21.0)\n",
            "Requirement already satisfied: python-dateutil in /usr/local/lib/python3.6/dist-packages (from kaggle) (2.5.3)\n",
            "Requirement already satisfied: tqdm in /usr/local/lib/python3.6/dist-packages (from kaggle) (4.28.1)\n",
            "Requirement already satisfied: python-slugify in /usr/local/lib/python3.6/dist-packages (from kaggle) (3.0.3)\n",
            "Requirement already satisfied: certifi in /usr/local/lib/python3.6/dist-packages (from kaggle) (2019.6.16)\n",
            "Requirement already satisfied: six>=1.10 in /usr/local/lib/python3.6/dist-packages (from kaggle) (1.12.0)\n",
            "Requirement already satisfied: idna<2.9,>=2.5 in /usr/local/lib/python3.6/dist-packages (from requests->kaggle) (2.8)\n",
            "Requirement already satisfied: chardet<3.1.0,>=3.0.2 in /usr/local/lib/python3.6/dist-packages (from requests->kaggle) (3.0.4)\n",
            "Requirement already satisfied: text-unidecode==1.2 in /usr/local/lib/python3.6/dist-packages (from python-slugify->kaggle) (1.2)\n"
          ],
          "name": "stdout"
        }
      ]
    },
    {
      "cell_type": "code",
      "metadata": {
        "id": "MR6tYo3B7kfJ",
        "colab_type": "code",
        "outputId": "70bae035-e73e-421c-e104-f42105fe8177",
        "colab": {
          "resources": {
            "http://localhost:8080/nbextensions/google.colab/files.js": {
              "data": "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",
              "ok": true,
              "headers": [
                [
                  "content-type",
                  "application/javascript"
                ]
              ],
              "status": 200,
              "status_text": ""
            }
          },
          "base_uri": "https://localhost:8080/",
          "height": 91
        }
      },
      "source": [
        "\n",
        "# upload \"keggle.json\" file that we download from keggle creat your API \n",
        "from google.colab import files\n",
        "\n",
        "uploaded = files.upload()\n",
        "\n",
        "for fn in uploaded.keys():\n",
        "  print('User uploaded file \"{name}\" with length {length} bytes'.format(\n",
        "      name=fn, length=len(uploaded[fn])))\n",
        "  \n",
        "# Then move kaggle.json into the folder where the API expects to find it.\n",
        "!mkdir -p ~/.kaggle/ && mv kaggle.json ~/.kaggle/ && chmod 600 ~/.kaggle/kaggle.json"
      ],
      "execution_count": 0,
      "outputs": [
        {
          "output_type": "display_data",
          "data": {
            "text/html": [
              "\n",
              "     <input type=\"file\" id=\"files-57d0b614-844b-49c9-b1cc-c9cae400d1da\" name=\"files[]\" multiple disabled />\n",
              "     <output id=\"result-57d0b614-844b-49c9-b1cc-c9cae400d1da\">\n",
              "      Upload widget is only available when the cell has been executed in the\n",
              "      current browser session. Please rerun this cell to enable.\n",
              "      </output>\n",
              "      <script src=\"/nbextensions/google.colab/files.js\"></script> "
            ],
            "text/plain": [
              "<IPython.core.display.HTML object>"
            ]
          },
          "metadata": {
            "tags": []
          }
        },
        {
          "output_type": "stream",
          "text": [
            "Saving kaggle.json to kaggle.json\n",
            "User uploaded file \"kaggle.json\" with length 63 bytes\n"
          ],
          "name": "stdout"
        }
      ]
    },
    {
      "cell_type": "code",
      "metadata": {
        "id": "uXRGNiBD7kwu",
        "colab_type": "code",
        "outputId": "9badd027-1283-4bb1-da11-63cd68c26f12",
        "colab": {
          "base_uri": "https://localhost:8080/",
          "height": 34
        }
      },
      "source": [
        "\n",
        "!kaggle datasets download -d moltean/fruits -w -f fruits.zip"
      ],
      "execution_count": 0,
      "outputs": [
        {
          "output_type": "stream",
          "text": [
            "fruits.zip: Skipping, found more recently modified local copy (use --force to force download)\n"
          ],
          "name": "stdout"
        }
      ]
    },
    {
      "cell_type": "code",
      "metadata": {
        "id": "3Fc5hJm2FtAR",
        "colab_type": "code",
        "outputId": "1cac9395-2995-4f2b-ebe3-e8a043966b3c",
        "colab": {
          "base_uri": "https://localhost:8080/",
          "height": 34
        }
      },
      "source": [
        "!ls \n"
      ],
      "execution_count": 0,
      "outputs": [
        {
          "output_type": "stream",
          "text": [
            "fruits-360  fruits.zip\treadme.md  sample_data\n"
          ],
          "name": "stdout"
        }
      ]
    },
    {
      "cell_type": "code",
      "metadata": {
        "id": "2Rqckd8z-EZG",
        "colab_type": "code",
        "outputId": "dcc95edc-4550-44fe-e039-3cde4b60e326",
        "colab": {
          "base_uri": "https://localhost:8080/",
          "height": 50
        }
      },
      "source": [
        "# Unzip the data\n",
        "!unzip fruits.zip\n"
      ],
      "execution_count": 0,
      "outputs": [
        {
          "output_type": "stream",
          "text": [
            "Archive:  fruits.zip\n",
            "replace fruits-360/LICENSE? [y]es, [n]o, [A]ll, [N]one, [r]ename: "
          ],
          "name": "stdout"
        }
      ]
    },
    {
      "cell_type": "code",
      "metadata": {
        "id": "NVUsZctGAaPf",
        "colab_type": "code",
        "outputId": "08ccf60b-9127-4659-a2f5-9d361f5de6b2",
        "colab": {
          "base_uri": "https://localhost:8080/",
          "height": 34
        }
      },
      "source": [
        "!ls /content/fruits-360/"
      ],
      "execution_count": 0,
      "outputs": [
        {
          "output_type": "stream",
          "text": [
            "LICENSE  papers  readme.md  Test  test-multiple_fruits\tTraining\n"
          ],
          "name": "stdout"
        }
      ]
    },
    {
      "cell_type": "code",
      "metadata": {
        "id": "PNstDLc4N1-e",
        "colab_type": "code",
        "colab": {}
      },
      "source": [
        "!mkdir -p /content/fruits-360/Training/test/test-multiple_fruits"
      ],
      "execution_count": 0,
      "outputs": []
    },
    {
      "cell_type": "code",
      "metadata": {
        "id": "5JXbTc1DF8xl",
        "colab_type": "code",
        "colab": {}
      },
      "source": [
        "# Path to data\n",
        "data_dir  = '/content/fruits-360/'\n",
        "train_dir = data_dir+'Training/'\n",
        "test_dir  = data_dir+'Test/'\n",
        "val_dir   = data_dir + 'test-multiple_fruits/'\n"
      ],
      "execution_count": 0,
      "outputs": []
    },
    {
      "cell_type": "code",
      "metadata": {
        "id": "3-vQuxBLD3p9",
        "colab_type": "code",
        "outputId": "ddcce412-db29-49c8-bc1d-3c1306f06716",
        "colab": {
          "base_uri": "https://localhost:8080/",
          "height": 34
        }
      },
      "source": [
        "!ls"
      ],
      "execution_count": 0,
      "outputs": [
        {
          "output_type": "stream",
          "text": [
            "fruits-360  fruits.zip\treadme.md  sample_data\n"
          ],
          "name": "stdout"
        }
      ]
    },
    {
      "cell_type": "code",
      "metadata": {
        "id": "fGvohIU9C3cO",
        "colab_type": "code",
        "outputId": "c92dc12b-0b98-4187-cf27-b6050f131475",
        "colab": {
          "base_uri": "https://localhost:8080/",
          "height": 84
        }
      },
      "source": [
        "import os\n",
        "import shutil\n",
        "#os.removedirs('/content/fruits-360/Training/test/')\n",
        "shutil.rmtree('/content/fruits-360/Training/test/')\n",
        "#os.rmdir('/content/fruits-360/Training/test/')\n",
        "#os.remove(\"/content/fruits-360/Training/test/\")\n",
        "print(len(os.listdir(train_dir)))\n",
        "print(len(os.listdir(test_dir)))\n",
        "print(len(os.listdir(val_dir)))\n",
        "print(len(os.listdir(data_dir)))"
      ],
      "execution_count": 0,
      "outputs": [
        {
          "output_type": "stream",
          "text": [
            "120\n",
            "120\n",
            "106\n",
            "6\n"
          ],
          "name": "stdout"
        }
      ]
    },
    {
      "cell_type": "code",
      "metadata": {
        "id": "lXmyKJ6aJD8g",
        "colab_type": "code",
        "outputId": "2c111a8f-3803-4344-897f-6dde330bbf84",
        "colab": {
          "base_uri": "https://localhost:8080/",
          "height": 34
        }
      },
      "source": [
        "!ls /content/fruits-360/Training/test"
      ],
      "execution_count": 0,
      "outputs": [
        {
          "output_type": "stream",
          "text": [
            "test-multiple_fruits\n"
          ],
          "name": "stdout"
        }
      ]
    },
    {
      "cell_type": "code",
      "metadata": {
        "id": "jigzXFcQAnna",
        "colab_type": "code",
        "outputId": "b0335711-5aca-4b65-92c4-5cbcfd4a4d15",
        "colab": {
          "base_uri": "https://localhost:8080/",
          "height": 70
        }
      },
      "source": [
        "train_dir = os.listdir(train_dir)\n",
        "print(train_dir[:])\n",
        "test_dir = os.listdir(test_dir)\n",
        "print(test_dir[:])"
      ],
      "execution_count": 0,
      "outputs": [
        {
          "output_type": "stream",
          "text": [
            "['Granadilla', 'Cherry Wax Black', 'Tomato Cherry Red', 'Mulberry', 'Eggplant', 'Tomato 3', 'Banana Lady Finger', 'Ginger Root', 'Pear', 'Papaya', 'Apple Granny Smith', 'Salak', 'Pineapple Mini', 'Pepino', 'Cantaloupe 1', 'Potato Red', 'Apple Golden 3', 'Pear Forelle', 'Avocado ripe', 'Apple Crimson Snow', 'Plum', 'Lychee', 'Tomato Maroon', 'Potato White', 'Hazelnut', 'Apple Red Delicious', 'Beetroot', 'Plum 3', 'Pepper Green', 'Kaki', 'Nectarine Flat', 'Dates', 'Physalis', 'Nectarine', 'Pomegranate', 'Huckleberry', 'Banana Red', 'Grapefruit White', 'Quince', 'Onion Red', 'Apple Red 1', 'Blueberry', 'Mango', 'Maracuja', 'Grape White 3', 'Pepper Yellow', 'Apple Golden 1', 'Kohlrabi', 'Grape Pink', 'Peach Flat', 'Peach 2', 'Apple Pink Lady', 'Onion Red Peeled', 'Clementine', 'Apple Red Yellow 2', 'Pitahaya Red', 'Chestnut', 'Apricot', 'Strawberry', 'Mangostan', 'Avocado', 'Tomato 1', 'Cherry Wax Yellow', 'Rambutan', 'Melon Piel de Sapo', 'Plum 2', 'Tomato 4', 'Potato Sweet', 'Apple Red 2', 'Apple Braeburn', 'Pear Monster', 'Kumquats', 'Peach', 'Apple Red 3', 'Apple Golden 2', 'Grape White 2', 'Pomelo Sweetie', 'Onion White', 'Pineapple', 'Guava', 'Cauliflower', 'Strawberry Wedge', 'Pepper Red', 'Banana', 'Cherry 2', 'Grape White 4', 'Mango Red', 'Cherry Wax Red', 'Raspberry', 'Cocos', 'Lemon', 'Redcurrant', 'Pear Abate', 'Pear Kaiser', 'Cherry 1', 'Cherry Rainier', 'Walnut', 'Carambula', 'Grape Blue', 'Nut Pecan', 'Tangelo', 'Orange', 'Tamarillo', 'Kiwi', 'Tomato Yellow', 'Pear Williams', 'Mandarine', 'Tomato 2', 'Grape White', 'Cactus fruit', 'Pear Red', 'Lemon Meyer', 'Potato Red Washed', 'Grapefruit Pink', 'Limes', 'Nut Forest', 'Physalis with Husk', 'Cantaloupe 2', 'Apple Red Yellow 1', 'Passion Fruit']\n",
            "['Granadilla', 'Cherry Wax Black', 'Tomato Cherry Red', 'Mulberry', 'Eggplant', 'Tomato 3', 'Banana Lady Finger', 'Ginger Root', 'Pear', 'Papaya', 'Apple Granny Smith', 'Salak', 'Pineapple Mini', 'Pepino', 'Cantaloupe 1', 'Potato Red', 'Apple Golden 3', 'Pear Forelle', 'Avocado ripe', 'Apple Crimson Snow', 'Plum', 'Lychee', 'Tomato Maroon', 'Potato White', 'Hazelnut', 'Apple Red Delicious', 'Beetroot', 'Plum 3', 'Pepper Green', 'Kaki', 'Nectarine Flat', 'Dates', 'Physalis', 'Nectarine', 'Pomegranate', 'Huckleberry', 'Banana Red', 'Grapefruit White', 'Quince', 'Onion Red', 'Apple Red 1', 'Blueberry', 'Mango', 'Maracuja', 'Grape White 3', 'Pepper Yellow', 'Apple Golden 1', 'Kohlrabi', 'Grape Pink', 'Peach Flat', 'Peach 2', 'Apple Pink Lady', 'Onion Red Peeled', 'Clementine', 'Apple Red Yellow 2', 'Pitahaya Red', 'Chestnut', 'Apricot', 'Strawberry', 'Mangostan', 'Avocado', 'Tomato 1', 'Cherry Wax Yellow', 'Rambutan', 'Melon Piel de Sapo', 'Plum 2', 'Tomato 4', 'Potato Sweet', 'Apple Red 2', 'Apple Braeburn', 'Pear Monster', 'Kumquats', 'Peach', 'Apple Red 3', 'Apple Golden 2', 'Grape White 2', 'Pomelo Sweetie', 'Onion White', 'Pineapple', 'Guava', 'Cauliflower', 'Strawberry Wedge', 'Pepper Red', 'Banana', 'Cherry 2', 'Grape White 4', 'Mango Red', 'Cherry Wax Red', 'Raspberry', 'Cocos', 'Lemon', 'Redcurrant', 'Pear Abate', 'Pear Kaiser', 'Cherry 1', 'Cherry Rainier', 'Walnut', 'Carambula', 'Grape Blue', 'Nut Pecan', 'Tangelo', 'Orange', 'Tamarillo', 'Kiwi', 'Tomato Yellow', 'Pear Williams', 'Mandarine', 'Tomato 2', 'Grape White', 'Cactus fruit', 'Pear Red', 'Lemon Meyer', 'Potato Red Washed', 'Grapefruit Pink', 'Limes', 'Nut Forest', 'Physalis with Husk', 'Cantaloupe 2', 'Apple Red Yellow 1', 'Passion Fruit']\n"
          ],
          "name": "stdout"
        }
      ]
    },
    {
      "cell_type": "code",
      "metadata": {
        "id": "9YXn4Qvp36Rc",
        "colab_type": "code",
        "colab": {}
      },
      "source": [
        "import numpy as np\n",
        "import cv2\n",
        "import pandas as pd\n",
        "%matplotlib inline\n",
        "import matplotlib.pyplot as plt\n",
        "from matplotlib.offsetbox import OffsetImage, AnnotationBbox\n",
        "import glob\n",
        "import os"
      ],
      "execution_count": 0,
      "outputs": []
    },
    {
      "cell_type": "code",
      "metadata": {
        "id": "nO07aYga36cG",
        "colab_type": "code",
        "outputId": "1d8460ef-3d7f-4451-ab23-e35fd7c7729e",
        "colab": {
          "base_uri": "https://localhost:8080/",
          "height": 1000
        }
      },
      "source": [
        "fruit_images = []\n",
        "labels = [] \n",
        "for fruit_dir_path in glob.glob(\"/content/fruits-360/Training/*\"):\n",
        "    fruit_label = fruit_dir_path.split(\"/\")[-1]\n",
        "    for image_path in glob.glob(os.path.join(fruit_dir_path, \"*.jpg\")):\n",
        "        image = cv2.imread(image_path, cv2.IMREAD_COLOR)\n",
        "        \n",
        "        image = cv2.resize(image, (45,45))\n",
        "        image = cv2.cvtColor(image, cv2.COLOR_RGB2BGR)\n",
        "        \n",
        "        fruit_images.append(image)\n",
        "        labels.append(fruit_label)\n",
        "fruit_images = np.array(fruit_images)\n",
        "labels = np.array(labels)\n",
        "\n",
        "label_to_id_dict = {v:i for i,v in enumerate(np.unique(labels))}\n",
        "id_to_label_dict = {v: k for k, v in label_to_id_dict.items()}\n",
        "\n",
        "id_to_label_dict\n",
        "\n",
        "#print(fruit_images.shape)\n",
        "#imgplot = plt.imshow(fruit_images[1])\n",
        "#print(imgplot)"
      ],
      "execution_count": 0,
      "outputs": [
        {
          "output_type": "execute_result",
          "data": {
            "text/plain": [
              "{0: 'Apple Braeburn',\n",
              " 1: 'Apple Crimson Snow',\n",
              " 2: 'Apple Golden 1',\n",
              " 3: 'Apple Golden 2',\n",
              " 4: 'Apple Golden 3',\n",
              " 5: 'Apple Granny Smith',\n",
              " 6: 'Apple Pink Lady',\n",
              " 7: 'Apple Red 1',\n",
              " 8: 'Apple Red 2',\n",
              " 9: 'Apple Red 3',\n",
              " 10: 'Apple Red Delicious',\n",
              " 11: 'Apple Red Yellow 1',\n",
              " 12: 'Apple Red Yellow 2',\n",
              " 13: 'Apricot',\n",
              " 14: 'Avocado',\n",
              " 15: 'Avocado ripe',\n",
              " 16: 'Banana',\n",
              " 17: 'Banana Lady Finger',\n",
              " 18: 'Banana Red',\n",
              " 19: 'Beetroot',\n",
              " 20: 'Blueberry',\n",
              " 21: 'Cactus fruit',\n",
              " 22: 'Cantaloupe 1',\n",
              " 23: 'Cantaloupe 2',\n",
              " 24: 'Carambula',\n",
              " 25: 'Cauliflower',\n",
              " 26: 'Cherry 1',\n",
              " 27: 'Cherry 2',\n",
              " 28: 'Cherry Rainier',\n",
              " 29: 'Cherry Wax Black',\n",
              " 30: 'Cherry Wax Red',\n",
              " 31: 'Cherry Wax Yellow',\n",
              " 32: 'Chestnut',\n",
              " 33: 'Clementine',\n",
              " 34: 'Cocos',\n",
              " 35: 'Dates',\n",
              " 36: 'Eggplant',\n",
              " 37: 'Ginger Root',\n",
              " 38: 'Granadilla',\n",
              " 39: 'Grape Blue',\n",
              " 40: 'Grape Pink',\n",
              " 41: 'Grape White',\n",
              " 42: 'Grape White 2',\n",
              " 43: 'Grape White 3',\n",
              " 44: 'Grape White 4',\n",
              " 45: 'Grapefruit Pink',\n",
              " 46: 'Grapefruit White',\n",
              " 47: 'Guava',\n",
              " 48: 'Hazelnut',\n",
              " 49: 'Huckleberry',\n",
              " 50: 'Kaki',\n",
              " 51: 'Kiwi',\n",
              " 52: 'Kohlrabi',\n",
              " 53: 'Kumquats',\n",
              " 54: 'Lemon',\n",
              " 55: 'Lemon Meyer',\n",
              " 56: 'Limes',\n",
              " 57: 'Lychee',\n",
              " 58: 'Mandarine',\n",
              " 59: 'Mango',\n",
              " 60: 'Mango Red',\n",
              " 61: 'Mangostan',\n",
              " 62: 'Maracuja',\n",
              " 63: 'Melon Piel de Sapo',\n",
              " 64: 'Mulberry',\n",
              " 65: 'Nectarine',\n",
              " 66: 'Nectarine Flat',\n",
              " 67: 'Nut Forest',\n",
              " 68: 'Nut Pecan',\n",
              " 69: 'Onion Red',\n",
              " 70: 'Onion Red Peeled',\n",
              " 71: 'Onion White',\n",
              " 72: 'Orange',\n",
              " 73: 'Papaya',\n",
              " 74: 'Passion Fruit',\n",
              " 75: 'Peach',\n",
              " 76: 'Peach 2',\n",
              " 77: 'Peach Flat',\n",
              " 78: 'Pear',\n",
              " 79: 'Pear Abate',\n",
              " 80: 'Pear Forelle',\n",
              " 81: 'Pear Kaiser',\n",
              " 82: 'Pear Monster',\n",
              " 83: 'Pear Red',\n",
              " 84: 'Pear Williams',\n",
              " 85: 'Pepino',\n",
              " 86: 'Pepper Green',\n",
              " 87: 'Pepper Red',\n",
              " 88: 'Pepper Yellow',\n",
              " 89: 'Physalis',\n",
              " 90: 'Physalis with Husk',\n",
              " 91: 'Pineapple',\n",
              " 92: 'Pineapple Mini',\n",
              " 93: 'Pitahaya Red',\n",
              " 94: 'Plum',\n",
              " 95: 'Plum 2',\n",
              " 96: 'Plum 3',\n",
              " 97: 'Pomegranate',\n",
              " 98: 'Pomelo Sweetie',\n",
              " 99: 'Potato Red',\n",
              " 100: 'Potato Red Washed',\n",
              " 101: 'Potato Sweet',\n",
              " 102: 'Potato White',\n",
              " 103: 'Quince',\n",
              " 104: 'Rambutan',\n",
              " 105: 'Raspberry',\n",
              " 106: 'Redcurrant',\n",
              " 107: 'Salak',\n",
              " 108: 'Strawberry',\n",
              " 109: 'Strawberry Wedge',\n",
              " 110: 'Tamarillo',\n",
              " 111: 'Tangelo',\n",
              " 112: 'Tomato 1',\n",
              " 113: 'Tomato 2',\n",
              " 114: 'Tomato 3',\n",
              " 115: 'Tomato 4',\n",
              " 116: 'Tomato Cherry Red',\n",
              " 117: 'Tomato Maroon',\n",
              " 118: 'Tomato Yellow',\n",
              " 119: 'Walnut'}"
            ]
          },
          "metadata": {
            "tags": []
          },
          "execution_count": 59
        }
      ]
    },
    {
      "cell_type": "code",
      "metadata": {
        "id": "nrS_2L78CGIl",
        "colab_type": "code",
        "outputId": "055429d9-c166-4e53-9d2a-92e7823c4989",
        "colab": {
          "base_uri": "https://localhost:8080/",
          "height": 1000
        }
      },
      "source": [
        "\n",
        "fruit_images_test = []\n",
        "labels_test = [] \n",
        "for fruit_dir_path in glob.glob(\"/content/fruits-360/Test/*\"):\n",
        "    fruit_label = fruit_dir_path.split(\"/\")[-1]\n",
        "    for image_path in glob.glob(os.path.join(fruit_dir_path, \"*.jpg\")):\n",
        "        image = cv2.imread(image_path, cv2.IMREAD_COLOR)\n",
        "        \n",
        "        image = cv2.resize(image, (45,45))\n",
        "        image = cv2.cvtColor(image, cv2.COLOR_RGB2BGR)\n",
        "        \n",
        "        fruit_images_test.append(image)\n",
        "        labels_test.append(fruit_label)\n",
        "fruit_images_test = np.array(fruit_images_test)\n",
        "labels_test = np.array(labels_test)\n",
        "\n",
        "label_to_id_test_dict = {v:i for i,v in enumerate(np.unique(labels_test))}\n",
        "id_to_label_test_dict = {v: k for k, v in label_to_id_dict.items()}\n",
        "\n",
        "id_to_label_test_dict\n",
        "\n",
        "#print(fruit_images_test.shape)\n",
        "#imgplot = plt.imshow(fruit_images_test[1])\n",
        "#print(imgplot)\n"
      ],
      "execution_count": 0,
      "outputs": [
        {
          "output_type": "execute_result",
          "data": {
            "text/plain": [
              "{0: 'Apple Braeburn',\n",
              " 1: 'Apple Crimson Snow',\n",
              " 2: 'Apple Golden 1',\n",
              " 3: 'Apple Golden 2',\n",
              " 4: 'Apple Golden 3',\n",
              " 5: 'Apple Granny Smith',\n",
              " 6: 'Apple Pink Lady',\n",
              " 7: 'Apple Red 1',\n",
              " 8: 'Apple Red 2',\n",
              " 9: 'Apple Red 3',\n",
              " 10: 'Apple Red Delicious',\n",
              " 11: 'Apple Red Yellow 1',\n",
              " 12: 'Apple Red Yellow 2',\n",
              " 13: 'Apricot',\n",
              " 14: 'Avocado',\n",
              " 15: 'Avocado ripe',\n",
              " 16: 'Banana',\n",
              " 17: 'Banana Lady Finger',\n",
              " 18: 'Banana Red',\n",
              " 19: 'Beetroot',\n",
              " 20: 'Blueberry',\n",
              " 21: 'Cactus fruit',\n",
              " 22: 'Cantaloupe 1',\n",
              " 23: 'Cantaloupe 2',\n",
              " 24: 'Carambula',\n",
              " 25: 'Cauliflower',\n",
              " 26: 'Cherry 1',\n",
              " 27: 'Cherry 2',\n",
              " 28: 'Cherry Rainier',\n",
              " 29: 'Cherry Wax Black',\n",
              " 30: 'Cherry Wax Red',\n",
              " 31: 'Cherry Wax Yellow',\n",
              " 32: 'Chestnut',\n",
              " 33: 'Clementine',\n",
              " 34: 'Cocos',\n",
              " 35: 'Dates',\n",
              " 36: 'Eggplant',\n",
              " 37: 'Ginger Root',\n",
              " 38: 'Granadilla',\n",
              " 39: 'Grape Blue',\n",
              " 40: 'Grape Pink',\n",
              " 41: 'Grape White',\n",
              " 42: 'Grape White 2',\n",
              " 43: 'Grape White 3',\n",
              " 44: 'Grape White 4',\n",
              " 45: 'Grapefruit Pink',\n",
              " 46: 'Grapefruit White',\n",
              " 47: 'Guava',\n",
              " 48: 'Hazelnut',\n",
              " 49: 'Huckleberry',\n",
              " 50: 'Kaki',\n",
              " 51: 'Kiwi',\n",
              " 52: 'Kohlrabi',\n",
              " 53: 'Kumquats',\n",
              " 54: 'Lemon',\n",
              " 55: 'Lemon Meyer',\n",
              " 56: 'Limes',\n",
              " 57: 'Lychee',\n",
              " 58: 'Mandarine',\n",
              " 59: 'Mango',\n",
              " 60: 'Mango Red',\n",
              " 61: 'Mangostan',\n",
              " 62: 'Maracuja',\n",
              " 63: 'Melon Piel de Sapo',\n",
              " 64: 'Mulberry',\n",
              " 65: 'Nectarine',\n",
              " 66: 'Nectarine Flat',\n",
              " 67: 'Nut Forest',\n",
              " 68: 'Nut Pecan',\n",
              " 69: 'Onion Red',\n",
              " 70: 'Onion Red Peeled',\n",
              " 71: 'Onion White',\n",
              " 72: 'Orange',\n",
              " 73: 'Papaya',\n",
              " 74: 'Passion Fruit',\n",
              " 75: 'Peach',\n",
              " 76: 'Peach 2',\n",
              " 77: 'Peach Flat',\n",
              " 78: 'Pear',\n",
              " 79: 'Pear Abate',\n",
              " 80: 'Pear Forelle',\n",
              " 81: 'Pear Kaiser',\n",
              " 82: 'Pear Monster',\n",
              " 83: 'Pear Red',\n",
              " 84: 'Pear Williams',\n",
              " 85: 'Pepino',\n",
              " 86: 'Pepper Green',\n",
              " 87: 'Pepper Red',\n",
              " 88: 'Pepper Yellow',\n",
              " 89: 'Physalis',\n",
              " 90: 'Physalis with Husk',\n",
              " 91: 'Pineapple',\n",
              " 92: 'Pineapple Mini',\n",
              " 93: 'Pitahaya Red',\n",
              " 94: 'Plum',\n",
              " 95: 'Plum 2',\n",
              " 96: 'Plum 3',\n",
              " 97: 'Pomegranate',\n",
              " 98: 'Pomelo Sweetie',\n",
              " 99: 'Potato Red',\n",
              " 100: 'Potato Red Washed',\n",
              " 101: 'Potato Sweet',\n",
              " 102: 'Potato White',\n",
              " 103: 'Quince',\n",
              " 104: 'Rambutan',\n",
              " 105: 'Raspberry',\n",
              " 106: 'Redcurrant',\n",
              " 107: 'Salak',\n",
              " 108: 'Strawberry',\n",
              " 109: 'Strawberry Wedge',\n",
              " 110: 'Tamarillo',\n",
              " 111: 'Tangelo',\n",
              " 112: 'Tomato 1',\n",
              " 113: 'Tomato 2',\n",
              " 114: 'Tomato 3',\n",
              " 115: 'Tomato 4',\n",
              " 116: 'Tomato Cherry Red',\n",
              " 117: 'Tomato Maroon',\n",
              " 118: 'Tomato Yellow',\n",
              " 119: 'Walnut'}"
            ]
          },
          "metadata": {
            "tags": []
          },
          "execution_count": 60
        }
      ]
    },
    {
      "cell_type": "code",
      "metadata": {
        "id": "e8HTGMCpDTOa",
        "colab_type": "code",
        "outputId": "099ea336-2135-4fa0-c23c-e39ca674593f",
        "colab": {
          "base_uri": "https://localhost:8080/",
          "height": 1000
        }
      },
      "source": [
        "\n",
        "fruit_images_val = []\n",
        "labels_val = [] \n",
        "for fruit_dir_path in glob.glob(\"/content/fruits-360/test-multiple_fruits/*\"):\n",
        "    fruit_label = fruit_dir_path.split(\"/\")[-1]\n",
        "    for image_path in glob.glob(os.path.join(fruit_dir_path, \"*.jpg\")):\n",
        "        image = cv2.imread(image_path, cv2.IMREAD_COLOR)\n",
        "        \n",
        "        image = cv2.resize(image, (100,100))\n",
        "        image = cv2.cvtColor(image, cv2.COLOR_RGB2BGR)\n",
        "        \n",
        "        fruit_images_test.append(image)\n",
        "        labels_test.append(fruit_label)\n",
        "fruit_images_val = np.array(fruit_images_val)\n",
        "labels_val = np.array(labels_val)\n",
        "\n",
        "label_to_id_val_dict = {v:i for i,v in enumerate(np.unique(labels_val))}\n",
        "id_to_label_val_dict = {v: k for k, v in label_to_id_dict.items()}\n",
        "\n",
        "id_to_label_val_dict\n",
        "\n",
        "#print(fruit_images_val.shape)\n",
        "#imgplot = plt.imshow(fruit_images_val[1])\n",
        "#print(imgplot)\n"
      ],
      "execution_count": 0,
      "outputs": [
        {
          "output_type": "execute_result",
          "data": {
            "text/plain": [
              "{0: 'Apple Braeburn',\n",
              " 1: 'Apple Crimson Snow',\n",
              " 2: 'Apple Golden 1',\n",
              " 3: 'Apple Golden 2',\n",
              " 4: 'Apple Golden 3',\n",
              " 5: 'Apple Granny Smith',\n",
              " 6: 'Apple Pink Lady',\n",
              " 7: 'Apple Red 1',\n",
              " 8: 'Apple Red 2',\n",
              " 9: 'Apple Red 3',\n",
              " 10: 'Apple Red Delicious',\n",
              " 11: 'Apple Red Yellow 1',\n",
              " 12: 'Apple Red Yellow 2',\n",
              " 13: 'Apricot',\n",
              " 14: 'Avocado',\n",
              " 15: 'Avocado ripe',\n",
              " 16: 'Banana',\n",
              " 17: 'Banana Lady Finger',\n",
              " 18: 'Banana Red',\n",
              " 19: 'Beetroot',\n",
              " 20: 'Blueberry',\n",
              " 21: 'Cactus fruit',\n",
              " 22: 'Cantaloupe 1',\n",
              " 23: 'Cantaloupe 2',\n",
              " 24: 'Carambula',\n",
              " 25: 'Cauliflower',\n",
              " 26: 'Cherry 1',\n",
              " 27: 'Cherry 2',\n",
              " 28: 'Cherry Rainier',\n",
              " 29: 'Cherry Wax Black',\n",
              " 30: 'Cherry Wax Red',\n",
              " 31: 'Cherry Wax Yellow',\n",
              " 32: 'Chestnut',\n",
              " 33: 'Clementine',\n",
              " 34: 'Cocos',\n",
              " 35: 'Dates',\n",
              " 36: 'Eggplant',\n",
              " 37: 'Ginger Root',\n",
              " 38: 'Granadilla',\n",
              " 39: 'Grape Blue',\n",
              " 40: 'Grape Pink',\n",
              " 41: 'Grape White',\n",
              " 42: 'Grape White 2',\n",
              " 43: 'Grape White 3',\n",
              " 44: 'Grape White 4',\n",
              " 45: 'Grapefruit Pink',\n",
              " 46: 'Grapefruit White',\n",
              " 47: 'Guava',\n",
              " 48: 'Hazelnut',\n",
              " 49: 'Huckleberry',\n",
              " 50: 'Kaki',\n",
              " 51: 'Kiwi',\n",
              " 52: 'Kohlrabi',\n",
              " 53: 'Kumquats',\n",
              " 54: 'Lemon',\n",
              " 55: 'Lemon Meyer',\n",
              " 56: 'Limes',\n",
              " 57: 'Lychee',\n",
              " 58: 'Mandarine',\n",
              " 59: 'Mango',\n",
              " 60: 'Mango Red',\n",
              " 61: 'Mangostan',\n",
              " 62: 'Maracuja',\n",
              " 63: 'Melon Piel de Sapo',\n",
              " 64: 'Mulberry',\n",
              " 65: 'Nectarine',\n",
              " 66: 'Nectarine Flat',\n",
              " 67: 'Nut Forest',\n",
              " 68: 'Nut Pecan',\n",
              " 69: 'Onion Red',\n",
              " 70: 'Onion Red Peeled',\n",
              " 71: 'Onion White',\n",
              " 72: 'Orange',\n",
              " 73: 'Papaya',\n",
              " 74: 'Passion Fruit',\n",
              " 75: 'Peach',\n",
              " 76: 'Peach 2',\n",
              " 77: 'Peach Flat',\n",
              " 78: 'Pear',\n",
              " 79: 'Pear Abate',\n",
              " 80: 'Pear Forelle',\n",
              " 81: 'Pear Kaiser',\n",
              " 82: 'Pear Monster',\n",
              " 83: 'Pear Red',\n",
              " 84: 'Pear Williams',\n",
              " 85: 'Pepino',\n",
              " 86: 'Pepper Green',\n",
              " 87: 'Pepper Red',\n",
              " 88: 'Pepper Yellow',\n",
              " 89: 'Physalis',\n",
              " 90: 'Physalis with Husk',\n",
              " 91: 'Pineapple',\n",
              " 92: 'Pineapple Mini',\n",
              " 93: 'Pitahaya Red',\n",
              " 94: 'Plum',\n",
              " 95: 'Plum 2',\n",
              " 96: 'Plum 3',\n",
              " 97: 'Pomegranate',\n",
              " 98: 'Pomelo Sweetie',\n",
              " 99: 'Potato Red',\n",
              " 100: 'Potato Red Washed',\n",
              " 101: 'Potato Sweet',\n",
              " 102: 'Potato White',\n",
              " 103: 'Quince',\n",
              " 104: 'Rambutan',\n",
              " 105: 'Raspberry',\n",
              " 106: 'Redcurrant',\n",
              " 107: 'Salak',\n",
              " 108: 'Strawberry',\n",
              " 109: 'Strawberry Wedge',\n",
              " 110: 'Tamarillo',\n",
              " 111: 'Tangelo',\n",
              " 112: 'Tomato 1',\n",
              " 113: 'Tomato 2',\n",
              " 114: 'Tomato 3',\n",
              " 115: 'Tomato 4',\n",
              " 116: 'Tomato Cherry Red',\n",
              " 117: 'Tomato Maroon',\n",
              " 118: 'Tomato Yellow',\n",
              " 119: 'Walnut'}"
            ]
          },
          "metadata": {
            "tags": []
          },
          "execution_count": 68
        }
      ]
    },
    {
      "cell_type": "code",
      "metadata": {
        "id": "DjxfkK-z4Yjp",
        "colab_type": "code",
        "colab": {}
      },
      "source": [
        ""
      ],
      "execution_count": 0,
      "outputs": []
    },
    {
      "cell_type": "code",
      "metadata": {
        "id": "m9TkoPjO4a33",
        "colab_type": "code",
        "colab": {}
      },
      "source": [
        ""
      ],
      "execution_count": 0,
      "outputs": []
    },
    {
      "cell_type": "code",
      "metadata": {
        "id": "ixxJGp3_9TiZ",
        "colab_type": "code",
        "colab": {}
      },
      "source": [
        "import tensorflow as tf\n",
        "from keras.preprocessing import image\n",
        "from keras.applications.mobilenet import preprocess_input\n",
        "from keras.preprocessing.image import ImageDataGenerator\n",
        "\n",
        "## Specify the values for all arguments to data_generator_with_augmant.\n",
        "data_generator_with_aug = ImageDataGenerator(preprocessing_function=preprocess_input,\n",
        "                                            \n",
        "                                             horizontal_flip = True,\n",
        "                                             width_shift_range = 0.2,\n",
        "                                             height_shift_range = 0.2,\n",
        "                                             shear_range = 0.2,\n",
        "                                             zoom_range = 0.2\n",
        "                                            )"
      ],
      "execution_count": 0,
      "outputs": []
    },
    {
      "cell_type": "code",
      "metadata": {
        "id": "_wqZeuiw7_H9",
        "colab_type": "code",
        "outputId": "99048133-472c-4728-cd44-0423deae28b9",
        "colab": {
          "base_uri": "https://localhost:8080/",
          "height": 454
        }
      },
      "source": [
        "from tensorflow.keras.optimizers import RMSprop\n",
        "\n",
        "model = tf.keras.models.Sequential([\n",
        "    # This is the first convolution\n",
        "    tf.keras.layers.Conv2D(16, (3,3), activation='relu', input_shape=(100 , 100, 3)),\n",
        "    tf.keras.layers.MaxPooling2D(2, 2),\n",
        "    # The second convolution\n",
        "    tf.keras.layers.Conv2D(32, (3,3), activation='relu'),\n",
        "    tf.keras.layers.MaxPooling2D(2,2),\n",
        "    # The third convolution\n",
        "    tf.keras.layers.Conv2D(64, (3,3), activation='relu'),\n",
        "    tf.keras.layers.MaxPooling2D(2,2),\n",
        "    tf.keras.layers.Flatten(),\n",
        "    tf.keras.layers.Dense(512, activation='relu'),\n",
        "    tf.keras.layers.Dense(120, activation='softmax') # 'sigmoid' for binary classifcation\n",
        "])\n",
        "\n",
        "model.compile(optimizer='rmsprop', loss='categorical_crossentropy', metrics=['acc'])\n",
        "model.summary()"
      ],
      "execution_count": 0,
      "outputs": [
        {
          "output_type": "stream",
          "text": [
            "Model: \"sequential_7\"\n",
            "_________________________________________________________________\n",
            "Layer (type)                 Output Shape              Param #   \n",
            "=================================================================\n",
            "conv2d_16 (Conv2D)           (None, 98, 98, 16)        448       \n",
            "_________________________________________________________________\n",
            "max_pooling2d_16 (MaxPooling (None, 49, 49, 16)        0         \n",
            "_________________________________________________________________\n",
            "conv2d_17 (Conv2D)           (None, 47, 47, 32)        4640      \n",
            "_________________________________________________________________\n",
            "max_pooling2d_17 (MaxPooling (None, 23, 23, 32)        0         \n",
            "_________________________________________________________________\n",
            "conv2d_18 (Conv2D)           (None, 21, 21, 64)        18496     \n",
            "_________________________________________________________________\n",
            "max_pooling2d_18 (MaxPooling (None, 10, 10, 64)        0         \n",
            "_________________________________________________________________\n",
            "flatten_7 (Flatten)          (None, 6400)              0         \n",
            "_________________________________________________________________\n",
            "dense_14 (Dense)             (None, 512)               3277312   \n",
            "_________________________________________________________________\n",
            "dense_15 (Dense)             (None, 120)               61560     \n",
            "=================================================================\n",
            "Total params: 3,362,456\n",
            "Trainable params: 3,362,456\n",
            "Non-trainable params: 0\n",
            "_________________________________________________________________\n"
          ],
          "name": "stdout"
        }
      ]
    },
    {
      "cell_type": "code",
      "metadata": {
        "id": "R_UMzL0g8BKc",
        "colab_type": "code",
        "outputId": "e1118fb1-39f6-41ad-86bd-e729b1b6296d",
        "colab": {
          "base_uri": "https://localhost:8080/",
          "height": 890
        }
      },
      "source": [
        "training_datagen = ImageDataGenerator( #augmentation \n",
        "      rescale = 1./255,\n",
        "\t    rotation_range=40, # 40 degree\n",
        "      width_shift_range=0.2, # left and right by 20%\n",
        "      height_shift_range=0.2, # up and down by 20%\n",
        "      shear_range=0.2, # Shear angle by 20%\n",
        "      zoom_range=0.2,  #zoom by 20%\n",
        "      horizontal_flip=True, # horizontil image \n",
        "      fill_mode='nearest')\n",
        "\n",
        "\n",
        "trainign_dir=\"/content/fruits-360/Training/\"\n",
        "train_generator = training_datagen.flow_from_directory(\n",
        "\ttrainign_dir,\n",
        "\ttarget_size=(100,100),\n",
        "\tclass_mode='categorical'\n",
        ")\n",
        "'''\n",
        "val_dir=\"/content/fruits-360/test-multiple_fruits/\"\n",
        "validation_datagen = ImageDataGenerator(rescale = 1./255)\n",
        "validation_generator = validation_datagen.flow_from_directory(\n",
        "\tval_dir,\n",
        "\ttarget_size=(100,100),\n",
        "\tclass_mode='categorical'\n",
        ")'''\n",
        "\n",
        "test_dir=\"/content/fruits-360/Test/\"\n",
        "test_datagen = ImageDataGenerator(rescale = 1./255)\n",
        "test_generator = test_datagen.flow_from_directory(\n",
        "\ttest_dir,\n",
        "\ttarget_size=(100,100),\n",
        "\tclass_mode='categorical'\n",
        ")\n",
        "\n",
        "history = model.fit_generator(train_generator, epochs=25, validation_data = test_generator , verbose = 1)\n",
        "\n",
        "model.save(\"fruits360.h5\")"
      ],
      "execution_count": 0,
      "outputs": [
        {
          "output_type": "stream",
          "text": [
            "Found 60498 images belonging to 120 classes.\n",
            "Found 20622 images belonging to 120 classes.\n",
            "Epoch 1/25\n",
            "1891/1891 [==============================] - 761s 402ms/step - loss: 1.1044 - acc: 0.6690 - val_loss: 0.2349 - val_acc: 0.9208\n",
            "Epoch 2/25\n",
            "1891/1891 [==============================] - 760s 402ms/step - loss: 0.2797 - acc: 0.9068 - val_loss: 0.1572 - val_acc: 0.9576\n",
            "Epoch 3/25\n",
            "1891/1891 [==============================] - 757s 400ms/step - loss: 0.1917 - acc: 0.9404 - val_loss: 0.1287 - val_acc: 0.9714\n",
            "Epoch 4/25\n",
            "1891/1891 [==============================] - 758s 401ms/step - loss: 0.1564 - acc: 0.9528 - val_loss: 0.1430 - val_acc: 0.9687\n",
            "Epoch 5/25\n",
            "1891/1891 [==============================] - 756s 400ms/step - loss: 0.1456 - acc: 0.9602 - val_loss: 0.2112 - val_acc: 0.9697\n",
            "Epoch 6/25\n",
            "1891/1891 [==============================] - 754s 399ms/step - loss: 0.1317 - acc: 0.9645 - val_loss: 0.1629 - val_acc: 0.9692\n",
            "Epoch 7/25\n",
            "1891/1891 [==============================] - 757s 400ms/step - loss: 0.1408 - acc: 0.9672 - val_loss: 0.1940 - val_acc: 0.9773\n",
            "Epoch 8/25\n",
            "1891/1891 [==============================] - 760s 402ms/step - loss: 0.1403 - acc: 0.9689 - val_loss: 0.9895 - val_acc: 0.9167\n",
            "Epoch 9/25\n",
            "1891/1891 [==============================] - 753s 398ms/step - loss: 0.1470 - acc: 0.9689 - val_loss: 0.2289 - val_acc: 0.9580\n",
            "Epoch 10/25\n",
            "1891/1891 [==============================] - 757s 400ms/step - loss: 0.1444 - acc: 0.9716 - val_loss: 0.3860 - val_acc: 0.9433\n",
            "Epoch 11/25\n",
            "1891/1891 [==============================] - 756s 400ms/step - loss: 0.1705 - acc: 0.9706 - val_loss: 0.1952 - val_acc: 0.9796\n",
            "Epoch 12/25\n",
            "1891/1891 [==============================] - 758s 401ms/step - loss: 0.1551 - acc: 0.9718 - val_loss: 0.1371 - val_acc: 0.9740\n",
            "Epoch 13/25\n",
            "1891/1891 [==============================] - 760s 402ms/step - loss: 0.1647 - acc: 0.9738 - val_loss: 0.6185 - val_acc: 0.9518\n",
            "Epoch 14/25\n",
            "1891/1891 [==============================] - 760s 402ms/step - loss: 0.1652 - acc: 0.9753 - val_loss: 0.1265 - val_acc: 0.9816\n",
            "Epoch 15/25\n",
            "1891/1891 [==============================] - 755s 399ms/step - loss: 0.1750 - acc: 0.9744 - val_loss: 0.2815 - val_acc: 0.9679\n",
            "Epoch 16/25\n",
            "1891/1891 [==============================] - 759s 401ms/step - loss: 0.1801 - acc: 0.9753 - val_loss: 0.2663 - val_acc: 0.9803\n",
            "Epoch 17/25\n",
            "1891/1891 [==============================] - 757s 400ms/step - loss: 0.1883 - acc: 0.9762 - val_loss: 0.2676 - val_acc: 0.9819\n",
            "Epoch 18/25\n",
            "1891/1891 [==============================] - 756s 400ms/step - loss: 0.2038 - acc: 0.9767 - val_loss: 0.4510 - val_acc: 0.9632\n",
            "Epoch 19/25\n",
            "1891/1891 [==============================] - 756s 400ms/step - loss: 0.2010 - acc: 0.9781 - val_loss: 0.2389 - val_acc: 0.9779\n",
            "Epoch 20/25\n",
            "1891/1891 [==============================] - 755s 399ms/step - loss: 0.2188 - acc: 0.9776 - val_loss: 0.4880 - val_acc: 0.9732\n",
            "Epoch 21/25\n",
            "1891/1891 [==============================] - 739s 391ms/step - loss: 0.2177 - acc: 0.9786 - val_loss: 0.3707 - val_acc: 0.9740\n",
            "Epoch 22/25\n",
            "1891/1891 [==============================] - 712s 376ms/step - loss: 0.1930 - acc: 0.9793 - val_loss: 0.3481 - val_acc: 0.9759\n",
            "Epoch 23/25\n",
            "1891/1891 [==============================] - 720s 381ms/step - loss: 0.2148 - acc: 0.9806 - val_loss: 0.4066 - val_acc: 0.9830\n",
            "Epoch 24/25\n",
            "1891/1891 [==============================] - 719s 380ms/step - loss: 0.2257 - acc: 0.9799 - val_loss: 1.3200 - val_acc: 0.9531\n",
            "Epoch 25/25\n",
            "1891/1891 [==============================] - 718s 380ms/step - loss: 0.2305 - acc: 0.9812 - val_loss: 0.3527 - val_acc: 0.9876\n"
          ],
          "name": "stdout"
        }
      ]
    },
    {
      "cell_type": "code",
      "metadata": {
        "id": "ASoivfaow73l",
        "colab_type": "code",
        "outputId": "1a64af37-992c-48c1-d217-d914d412d773",
        "colab": {
          "base_uri": "https://localhost:8080/",
          "height": 298
        }
      },
      "source": [
        "import matplotlib.pyplot as plt\n",
        "acc = history.history['acc']\n",
        "val_acc = history.history['val_acc']\n",
        "loss = history.history['loss']\n",
        "val_loss = history.history['val_loss']\n",
        "\n",
        "epochs = range(len(acc))\n",
        "\n",
        "plt.plot(epochs, acc, 'r', label='Training accuracy')\n",
        "plt.plot(epochs, val_acc, 'b', label='Validation accuracy')\n",
        "plt.title('Training and validation accuracy')\n",
        "plt.legend(loc=0)\n",
        "plt.figure()\n",
        "\n",
        "\n",
        "plt.show()"
      ],
      "execution_count": 0,
      "outputs": [
        {
          "output_type": "display_data",
          "data": {
            "image/png": "[encoded data removed]",
            "text/plain": [
              "<Figure size 432x288 with 1 Axes>"
            ]
          },
          "metadata": {
            "tags": []
          }
        },
        {
          "output_type": "display_data",
          "data": {
            "text/plain": [
              "<Figure size 432x288 with 0 Axes>"
            ]
          },
          "metadata": {
            "tags": []
          }
        }
      ]
    },
    {
      "cell_type": "code",
      "metadata": {
        "id": "3jHTfYoBBR7s",
        "colab_type": "code",
        "outputId": "e2fc529b-8cf0-4df9-d93c-06b802b8556c",
        "colab": {
          "resources": {
            "http://localhost:8080/nbextensions/google.colab/files.js": {
              "data": "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",
              "ok": true,
              "headers": [
                [
                  "content-type",
                  "application/javascript"
                ]
              ],
              "status": 200,
              "status_text": ""
            }
          },
          "base_uri": "https://localhost:8080/",
          "height": 175
        }
      },
      "source": [
        "import numpy as np\n",
        "from google.colab import files\n",
        "from keras.preprocessing import image\n",
        "\n",
        "uploaded = files.upload()\n",
        "\n",
        "for fn in uploaded.keys():\n",
        " \n",
        "  # predicting images\n",
        "  path = fn\n",
        "  img = image.load_img(path, target_size=(100, 100))\n",
        "  x = image.img_to_array(img)\n",
        "  x = np.expand_dims(x, axis=0)\n",
        "\n",
        "  images = np.vstack([x])\n",
        "  classes = model.predict(images, batch_size=10)\n",
        "  print(fn)\n",
        "  print(classes)"
      ],
      "execution_count": 0,
      "outputs": [
        {
          "output_type": "display_data",
          "data": {
            "text/html": [
              "\n",
              "     <input type=\"file\" id=\"files-1ec451a3-854c-4fe3-a269-9748e0bade97\" name=\"files[]\" multiple disabled />\n",
              "     <output id=\"result-1ec451a3-854c-4fe3-a269-9748e0bade97\">\n",
              "      Upload widget is only available when the cell has been executed in the\n",
              "      current browser session. Please rerun this cell to enable.\n",
              "      </output>\n",
              "      <script src=\"/nbextensions/google.colab/files.js\"></script> "
            ],
            "text/plain": [
              "<IPython.core.display.HTML object>"
            ]
          },
          "metadata": {
            "tags": []
          }
        },
        {
          "output_type": "stream",
          "text": [
            "Saving kiwi.jpg to kiwi (1).jpg\n",
            "kiwi.jpg\n",
            "[[0. 0. 0. 0. 0. 0. 0. 0. 0. 0. 0. 0. 0. 0. 0. 0. 0. 0. 0. 0. 0. 0. 0. 0.\n",
            "  0. 0. 0. 0. 0. 0. 0. 0. 0. 0. 0. 0. 0. 0. 0. 0. 0. 0. 0. 0. 0. 0. 0. 0.\n",
            "  0. 0. 0. 0. 0. 0. 0. 0. 0. 0. 0. 0. 0. 0. 0. 0. 0. 0. 0. 0. 0. 0. 0. 0.\n",
            "  0. 0. 0. 0. 0. 0. 0. 0. 0. 0. 0. 1. 0. 0. 0. 0. 0. 0. 0. 0. 0. 0. 0. 0.\n",
            "  0. 0. 0. 0. 0. 0. 0. 0. 0. 0. 0. 0. 0. 0. 0. 0. 0. 0. 0. 0. 0. 0. 0. 0.]]\n"
          ],
          "name": "stdout"
        }
      ]
    }
  ]
}