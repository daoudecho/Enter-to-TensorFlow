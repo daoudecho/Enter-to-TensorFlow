{
  "nbformat": 4,
  "nbformat_minor": 0,
  "metadata": {
    "colab": {
      "name": "Course 3 - Week 3 - Lesson 2c.ipynb",
      "provenance": [],
      "collapsed_sections": [],
      "include_colab_link": true
    },
    "kernelspec": {
      "name": "python3",
      "display_name": "Python 3"
    },
    "accelerator": "GPU"
  },
  "cells": [
    {
      "cell_type": "markdown",
      "metadata": {
        "id": "view-in-github",
        "colab_type": "text"
      },
      "source": [
        "<a href=\"https://colab.research.google.com/github/daoudecho/Enter-to-TensorFlow/blob/master/CNN/Course_3_Week_3_Sarcasm%20with%201D%20Convolutional%20Layer.ipynb\" target=\"_parent\"><img src=\"https://colab.research.google.com/assets/colab-badge.svg\" alt=\"Open In Colab\"/></a>"
      ]
    },
    {
      "cell_type": "code",
      "metadata": {
        "id": "jGwXGIXvFhXW",
        "colab_type": "code",
        "outputId": "0e10f0c8-a179-45e2-9a51-06ef746ce034",
        "colab": {
          "base_uri": "https://localhost:8080/",
          "height": 1000
        }
      },
      "source": [
        "import json\n",
        "import tensorflow as tf\n",
        "\n",
        "from tensorflow.keras.preprocessing.text import Tokenizer\n",
        "from tensorflow.keras.preprocessing.sequence import pad_sequences\n",
        "\n",
        "!wget --no-check-certificate \\\n",
        "    https://storage.googleapis.com/laurencemoroney-blog.appspot.com/sarcasm.json \\\n",
        "    -O /tmp/sarcasm.json\n",
        "\n",
        "vocab_size = 1000\n",
        "embedding_dim = 16\n",
        "max_length = 120\n",
        "trunc_type='post'\n",
        "padding_type='post'\n",
        "oov_tok = \"<OOV>\"\n",
        "training_size = 20000\n",
        "\n",
        "\n",
        "with open(\"/tmp/sarcasm.json\", 'r') as f:\n",
        "    datastore = json.load(f)\n",
        "\n",
        "\n",
        "sentences = []\n",
        "labels = []\n",
        "urls = []\n",
        "for item in datastore:\n",
        "    sentences.append(item['headline'])\n",
        "    labels.append(item['is_sarcastic'])\n",
        "\n",
        "training_sentences = sentences[0:training_size]\n",
        "testing_sentences = sentences[training_size:]\n",
        "training_labels = labels[0:training_size]\n",
        "testing_labels = labels[training_size:]\n",
        "\n",
        "tokenizer = Tokenizer(num_words=vocab_size, oov_token=oov_tok)\n",
        "tokenizer.fit_on_texts(training_sentences)\n",
        "\n",
        "word_index = tokenizer.word_index\n",
        "\n",
        "training_sequences = tokenizer.texts_to_sequences(training_sentences)\n",
        "training_padded = pad_sequences(training_sequences, maxlen=max_length, padding=padding_type, truncating=trunc_type)\n",
        "\n",
        "testing_sequences = tokenizer.texts_to_sequences(testing_sentences)\n",
        "testing_padded = pad_sequences(testing_sequences, maxlen=max_length, padding=padding_type, truncating=trunc_type)\n",
        "\n",
        "model = tf.keras.Sequential([\n",
        "    tf.keras.layers.Embedding(vocab_size, embedding_dim, input_length=max_length),\n",
        "    tf.keras.layers.Conv1D(128, 5, activation='relu'),\n",
        "    tf.keras.layers.GlobalMaxPooling1D(),\n",
        "    tf.keras.layers.Dense(24, activation='relu'),\n",
        "    tf.keras.layers.Dense(1, activation='sigmoid')\n",
        "])\n",
        "model.compile(loss='binary_crossentropy',optimizer='adam',metrics=['accuracy'])\n",
        "model.summary()\n",
        "\n",
        "num_epochs = 50\n",
        "history = model.fit(training_padded, training_labels, epochs=num_epochs, validation_data=(testing_padded, testing_labels), verbose=1)\n",
        "\n"
      ],
      "execution_count": 0,
      "outputs": [
        {
          "output_type": "stream",
          "text": [
            "--2019-09-30 16:29:35--  https://storage.googleapis.com/laurencemoroney-blog.appspot.com/sarcasm.json\n",
            "Resolving storage.googleapis.com (storage.googleapis.com)... 74.125.204.128, 2404:6800:4008:c06::80\n",
            "Connecting to storage.googleapis.com (storage.googleapis.com)|74.125.204.128|:443... connected.\n",
            "HTTP request sent, awaiting response... 200 OK\n",
            "Length: 5643545 (5.4M) [application/json]\n",
            "Saving to: ‘/tmp/sarcasm.json’\n",
            "\n",
            "\r/tmp/sarcasm.json     0%[                    ]       0  --.-KB/s               \r/tmp/sarcasm.json   100%[===================>]   5.38M  --.-KB/s    in 0.03s   \n",
            "\n",
            "2019-09-30 16:29:36 (161 MB/s) - ‘/tmp/sarcasm.json’ saved [5643545/5643545]\n",
            "\n",
            "WARNING:tensorflow:From /usr/local/lib/python3.6/dist-packages/tensorflow/python/keras/initializers.py:119: calling RandomUniform.__init__ (from tensorflow.python.ops.init_ops) with dtype is deprecated and will be removed in a future version.\n",
            "Instructions for updating:\n",
            "Call initializer instance with the dtype argument instead of passing it to the constructor\n",
            "WARNING:tensorflow:From /usr/local/lib/python3.6/dist-packages/tensorflow/python/ops/init_ops.py:1251: calling VarianceScaling.__init__ (from tensorflow.python.ops.init_ops) with dtype is deprecated and will be removed in a future version.\n",
            "Instructions for updating:\n",
            "Call initializer instance with the dtype argument instead of passing it to the constructor\n",
            "WARNING:tensorflow:From /usr/local/lib/python3.6/dist-packages/tensorflow/python/ops/nn_impl.py:180: add_dispatch_support.<locals>.wrapper (from tensorflow.python.ops.array_ops) is deprecated and will be removed in a future version.\n",
            "Instructions for updating:\n",
            "Use tf.where in 2.0, which has the same broadcast rule as np.where\n",
            "Model: \"sequential\"\n",
            "_________________________________________________________________\n",
            "Layer (type)                 Output Shape              Param #   \n",
            "=================================================================\n",
            "embedding (Embedding)        (None, 120, 16)           16000     \n",
            "_________________________________________________________________\n",
            "conv1d (Conv1D)              (None, 116, 128)          10368     \n",
            "_________________________________________________________________\n",
            "global_max_pooling1d (Global (None, 128)               0         \n",
            "_________________________________________________________________\n",
            "dense (Dense)                (None, 24)                3096      \n",
            "_________________________________________________________________\n",
            "dense_1 (Dense)              (None, 1)                 25        \n",
            "=================================================================\n",
            "Total params: 29,489\n",
            "Trainable params: 29,489\n",
            "Non-trainable params: 0\n",
            "_________________________________________________________________\n",
            "Train on 20000 samples, validate on 6709 samples\n",
            "Epoch 1/50\n",
            "20000/20000 [==============================] - 7s 347us/sample - loss: 0.4682 - acc: 0.7658 - val_loss: 0.4103 - val_acc: 0.8123\n",
            "Epoch 2/50\n",
            "20000/20000 [==============================] - 4s 201us/sample - loss: 0.3632 - acc: 0.8349 - val_loss: 0.3904 - val_acc: 0.8210\n",
            "Epoch 3/50\n",
            "20000/20000 [==============================] - 4s 203us/sample - loss: 0.3246 - acc: 0.8550 - val_loss: 0.3977 - val_acc: 0.8216\n",
            "Epoch 4/50\n",
            "20000/20000 [==============================] - 4s 209us/sample - loss: 0.2906 - acc: 0.8730 - val_loss: 0.4019 - val_acc: 0.8229\n",
            "Epoch 5/50\n",
            "20000/20000 [==============================] - 4s 205us/sample - loss: 0.2583 - acc: 0.8886 - val_loss: 0.4221 - val_acc: 0.8179\n",
            "Epoch 6/50\n",
            "20000/20000 [==============================] - 4s 197us/sample - loss: 0.2248 - acc: 0.9059 - val_loss: 0.4498 - val_acc: 0.8137\n",
            "Epoch 7/50\n",
            "20000/20000 [==============================] - 4s 194us/sample - loss: 0.1905 - acc: 0.9236 - val_loss: 0.5145 - val_acc: 0.8110\n",
            "Epoch 8/50\n",
            "20000/20000 [==============================] - 4s 198us/sample - loss: 0.1617 - acc: 0.9380 - val_loss: 0.5525 - val_acc: 0.8049\n",
            "Epoch 9/50\n",
            "20000/20000 [==============================] - 4s 195us/sample - loss: 0.1367 - acc: 0.9473 - val_loss: 0.5992 - val_acc: 0.8037\n",
            "Epoch 10/50\n",
            "20000/20000 [==============================] - 4s 197us/sample - loss: 0.1106 - acc: 0.9599 - val_loss: 0.6985 - val_acc: 0.8028\n",
            "Epoch 11/50\n",
            "20000/20000 [==============================] - 4s 195us/sample - loss: 0.0892 - acc: 0.9688 - val_loss: 0.7621 - val_acc: 0.7955\n",
            "Epoch 12/50\n",
            "20000/20000 [==============================] - 4s 195us/sample - loss: 0.0747 - acc: 0.9750 - val_loss: 0.8429 - val_acc: 0.7980\n",
            "Epoch 13/50\n",
            "20000/20000 [==============================] - 4s 193us/sample - loss: 0.0639 - acc: 0.9774 - val_loss: 0.9154 - val_acc: 0.7973\n",
            "Epoch 14/50\n",
            "20000/20000 [==============================] - 4s 196us/sample - loss: 0.0574 - acc: 0.9806 - val_loss: 0.9847 - val_acc: 0.7943\n",
            "Epoch 15/50\n",
            "20000/20000 [==============================] - 4s 197us/sample - loss: 0.0521 - acc: 0.9811 - val_loss: 1.1111 - val_acc: 0.7891\n",
            "Epoch 16/50\n",
            "20000/20000 [==============================] - 4s 194us/sample - loss: 0.0455 - acc: 0.9836 - val_loss: 1.1384 - val_acc: 0.7916\n",
            "Epoch 17/50\n",
            "20000/20000 [==============================] - 4s 198us/sample - loss: 0.0428 - acc: 0.9849 - val_loss: 1.2180 - val_acc: 0.7888\n",
            "Epoch 18/50\n",
            "20000/20000 [==============================] - 4s 197us/sample - loss: 0.0403 - acc: 0.9852 - val_loss: 1.2855 - val_acc: 0.7958\n",
            "Epoch 19/50\n",
            "20000/20000 [==============================] - 4s 192us/sample - loss: 0.0380 - acc: 0.9857 - val_loss: 1.3020 - val_acc: 0.7854\n",
            "Epoch 20/50\n",
            "20000/20000 [==============================] - 4s 194us/sample - loss: 0.0365 - acc: 0.9862 - val_loss: 1.4096 - val_acc: 0.7924\n",
            "Epoch 21/50\n",
            "20000/20000 [==============================] - 4s 197us/sample - loss: 0.0363 - acc: 0.9858 - val_loss: 1.4739 - val_acc: 0.7807\n",
            "Epoch 22/50\n",
            "20000/20000 [==============================] - 4s 198us/sample - loss: 0.0289 - acc: 0.9885 - val_loss: 1.5189 - val_acc: 0.7874\n",
            "Epoch 23/50\n",
            "20000/20000 [==============================] - 4s 196us/sample - loss: 0.0292 - acc: 0.9882 - val_loss: 1.5974 - val_acc: 0.7889\n",
            "Epoch 24/50\n",
            "20000/20000 [==============================] - 4s 198us/sample - loss: 0.0284 - acc: 0.9888 - val_loss: 1.6093 - val_acc: 0.7889\n",
            "Epoch 25/50\n",
            "20000/20000 [==============================] - 4s 196us/sample - loss: 0.0285 - acc: 0.9890 - val_loss: 1.7968 - val_acc: 0.7822\n",
            "Epoch 26/50\n",
            "20000/20000 [==============================] - 4s 195us/sample - loss: 0.0293 - acc: 0.9890 - val_loss: 1.7626 - val_acc: 0.7831\n",
            "Epoch 27/50\n",
            "20000/20000 [==============================] - 4s 196us/sample - loss: 0.0290 - acc: 0.9879 - val_loss: 1.7527 - val_acc: 0.7898\n",
            "Epoch 28/50\n",
            "20000/20000 [==============================] - 4s 194us/sample - loss: 0.0321 - acc: 0.9869 - val_loss: 1.7796 - val_acc: 0.7879\n",
            "Epoch 29/50\n",
            "20000/20000 [==============================] - 4s 198us/sample - loss: 0.0231 - acc: 0.9908 - val_loss: 1.8652 - val_acc: 0.7892\n",
            "Epoch 30/50\n",
            "20000/20000 [==============================] - 4s 197us/sample - loss: 0.0232 - acc: 0.9905 - val_loss: 1.9092 - val_acc: 0.7857\n",
            "Epoch 31/50\n",
            "20000/20000 [==============================] - 4s 197us/sample - loss: 0.0220 - acc: 0.9904 - val_loss: 1.9579 - val_acc: 0.7876\n",
            "Epoch 32/50\n",
            "20000/20000 [==============================] - 4s 197us/sample - loss: 0.0244 - acc: 0.9892 - val_loss: 2.0242 - val_acc: 0.7861\n",
            "Epoch 33/50\n",
            "20000/20000 [==============================] - 4s 198us/sample - loss: 0.0283 - acc: 0.9879 - val_loss: 1.9486 - val_acc: 0.7879\n",
            "Epoch 34/50\n",
            "20000/20000 [==============================] - 4s 194us/sample - loss: 0.0265 - acc: 0.9884 - val_loss: 2.0663 - val_acc: 0.7895\n",
            "Epoch 35/50\n",
            "20000/20000 [==============================] - 4s 195us/sample - loss: 0.0211 - acc: 0.9909 - val_loss: 2.2010 - val_acc: 0.7778\n",
            "Epoch 36/50\n",
            "20000/20000 [==============================] - 4s 196us/sample - loss: 0.0230 - acc: 0.9898 - val_loss: 2.1028 - val_acc: 0.7886\n",
            "Epoch 37/50\n",
            "20000/20000 [==============================] - 4s 197us/sample - loss: 0.0217 - acc: 0.9906 - val_loss: 2.2267 - val_acc: 0.7863\n",
            "Epoch 38/50\n",
            "20000/20000 [==============================] - 4s 197us/sample - loss: 0.0176 - acc: 0.9922 - val_loss: 2.2721 - val_acc: 0.7915\n",
            "Epoch 39/50\n",
            "20000/20000 [==============================] - 4s 196us/sample - loss: 0.0222 - acc: 0.9904 - val_loss: 2.3080 - val_acc: 0.7849\n",
            "Epoch 40/50\n",
            "20000/20000 [==============================] - 4s 195us/sample - loss: 0.0285 - acc: 0.9883 - val_loss: 2.1763 - val_acc: 0.7949\n",
            "Epoch 41/50\n",
            "20000/20000 [==============================] - 4s 196us/sample - loss: 0.0275 - acc: 0.9885 - val_loss: 2.1813 - val_acc: 0.7872\n",
            "Epoch 42/50\n",
            "20000/20000 [==============================] - 4s 196us/sample - loss: 0.0220 - acc: 0.9906 - val_loss: 2.1844 - val_acc: 0.7918\n",
            "Epoch 43/50\n",
            "20000/20000 [==============================] - 4s 197us/sample - loss: 0.0162 - acc: 0.9923 - val_loss: 2.2337 - val_acc: 0.7867\n",
            "Epoch 44/50\n",
            "20000/20000 [==============================] - 4s 196us/sample - loss: 0.0143 - acc: 0.9935 - val_loss: 2.5101 - val_acc: 0.7858\n",
            "Epoch 45/50\n",
            "20000/20000 [==============================] - 4s 196us/sample - loss: 0.0165 - acc: 0.9927 - val_loss: 2.4776 - val_acc: 0.7834\n",
            "Epoch 46/50\n",
            "20000/20000 [==============================] - 4s 195us/sample - loss: 0.0282 - acc: 0.9887 - val_loss: 2.3464 - val_acc: 0.7846\n",
            "Epoch 47/50\n",
            "20000/20000 [==============================] - 4s 196us/sample - loss: 0.0270 - acc: 0.9887 - val_loss: 2.2353 - val_acc: 0.7888\n",
            "Epoch 48/50\n",
            "20000/20000 [==============================] - 4s 198us/sample - loss: 0.0205 - acc: 0.9909 - val_loss: 2.3037 - val_acc: 0.7933\n",
            "Epoch 49/50\n",
            "20000/20000 [==============================] - 4s 197us/sample - loss: 0.0188 - acc: 0.9913 - val_loss: 2.3506 - val_acc: 0.7846\n",
            "Epoch 50/50\n",
            "20000/20000 [==============================] - 4s 195us/sample - loss: 0.0150 - acc: 0.9934 - val_loss: 2.4328 - val_acc: 0.7888\n"
          ],
          "name": "stdout"
        }
      ]
    },
    {
      "cell_type": "code",
      "metadata": {
        "id": "g9DC6dmLF8DC",
        "colab_type": "code",
        "outputId": "c61482f0-3354-4d1a-e044-868e213d21df",
        "colab": {
          "base_uri": "https://localhost:8080/",
          "height": 549
        }
      },
      "source": [
        "import matplotlib.pyplot as plt\n",
        "\n",
        "\n",
        "def plot_graphs(history, string):\n",
        "  plt.plot(history.history[string])\n",
        "  plt.plot(history.history['val_'+string])\n",
        "  plt.xlabel(\"Epochs\")\n",
        "  plt.ylabel(string)\n",
        "  plt.legend([string, 'val_'+string])\n",
        "  plt.show()\n",
        "\n",
        "plot_graphs(history, 'acc')\n",
        "plot_graphs(history, 'loss')"
      ],
      "execution_count": 0,
      "outputs": [
        {
          "output_type": "display_data",
          "data": {
            "image/png": "[encoded data removed]",
            "text/plain": [
              "<Figure size 432x288 with 1 Axes>"
            ]
          },
          "metadata": {
            "tags": []
          }
        },
        {
          "output_type": "display_data",
          "data": {
            "image/png": "[encoded data removed]",
            "text/plain": [
              "<Figure size 432x288 with 1 Axes>"
            ]
          },
          "metadata": {
            "tags": []
          }
        }
      ]
    },
    {
      "cell_type": "code",
      "metadata": {
        "id": "7ZEZIUppGhdi",
        "colab_type": "code",
        "colab": {}
      },
      "source": [
        "model.save(\"test.h5\")"
      ],
      "execution_count": 0,
      "outputs": []
    }
  ]
}