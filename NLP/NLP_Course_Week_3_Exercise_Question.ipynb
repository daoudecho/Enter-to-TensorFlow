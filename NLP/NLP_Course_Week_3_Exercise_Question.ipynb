{
  "nbformat": 4,
  "nbformat_minor": 0,
  "metadata": {
    "colab": {
      "name": "NLP Course - Week 3 Exercise Question.ipynb",
      "provenance": [],
      "include_colab_link": true
    },
    "kernelspec": {
      "name": "python3",
      "display_name": "Python 3"
    },
    "accelerator": "GPU"
  },
  "cells": [
    {
      "cell_type": "markdown",
      "metadata": {
        "id": "view-in-github",
        "colab_type": "text"
      },
      "source": [
        "<a href=\"https://colab.research.google.com/github/daoudecho/Enter-to-TensorFlow/blob/master/NLP/NLP_Course_Week_3_Exercise_Question.ipynb\" target=\"_parent\"><img src=\"https://colab.research.google.com/assets/colab-badge.svg\" alt=\"Open In Colab\"/></a>"
      ]
    },
    {
      "cell_type": "code",
      "metadata": {
        "id": "hmA6EzkQJ5jt",
        "colab_type": "code",
        "colab": {}
      },
      "source": [
        "import json\n",
        "import tensorflow as tf\n",
        "import csv\n",
        "import random\n",
        "import numpy as np\n",
        "\n",
        "from tensorflow.keras.preprocessing.text import Tokenizer\n",
        "from tensorflow.keras.preprocessing.sequence import pad_sequences\n",
        "from tensorflow.keras.utils import to_categorical\n",
        "from tensorflow.keras import regularizers\n",
        "\n",
        "\n",
        "embedding_dim = 100\n",
        "max_length = 16\n",
        "trunc_type='post'\n",
        "padding_type='post'\n",
        "oov_tok = \"<OOV>\"\n",
        "training_size= 160000       # Experiment using smaller values (i.e. 16000), but don't forget to train on at least 160000 to see the best effects\n",
        "test_portion=.1\n",
        "\n",
        "corpus = []\n"
      ],
      "execution_count": 0,
      "outputs": []
    },
    {
      "cell_type": "code",
      "metadata": {
        "id": "bM0l_dORKqE0",
        "colab_type": "code",
        "outputId": "aac87518-c468-4906-81fb-7c64666f219c",
        "colab": {
          "base_uri": "https://localhost:8080/",
          "height": 202
        }
      },
      "source": [
        "\n",
        "# Note that I cleaned the Stanford dataset to remove LATIN1 encoding to make it easier for Python CSV reader\n",
        "# You can do that yourself with:\n",
        "# iconv -f LATIN1 -t UTF8 training.1600000.processed.noemoticon.csv -o training_cleaned.csv\n",
        "# I then hosted it on my site to make it easier to use in this notebook\n",
        "\n",
        "!wget --no-check-certificate \\\n",
        "    https://storage.googleapis.com/laurencemoroney-blog.appspot.com/training_cleaned.csv \\\n",
        "    -O /tmp/training_cleaned.csv\n",
        "\n",
        "num_sentences = 0\n",
        "\n",
        "with open(\"/tmp/training_cleaned.csv\") as csvfile:\n",
        "    reader = csv.reader(csvfile, delimiter=',')\n",
        "    for row in reader:\n",
        "        list_item=[]\n",
        "        list_item.append(row[5])\n",
        "        this_label=row[0]\n",
        "        if this_label=='0':\n",
        "            list_item.append(0)\n",
        "        else:\n",
        "            list_item.append(1)\n",
        "        num_sentences = num_sentences + 1\n",
        "        corpus.append(list_item)\n"
      ],
      "execution_count": 0,
      "outputs": [
        {
          "output_type": "stream",
          "text": [
            "--2019-10-01 13:04:26--  https://storage.googleapis.com/laurencemoroney-blog.appspot.com/training_cleaned.csv\n",
            "Resolving storage.googleapis.com (storage.googleapis.com)... 216.58.197.208, 2404:6800:4004:80f::2010\n",
            "Connecting to storage.googleapis.com (storage.googleapis.com)|216.58.197.208|:443... connected.\n",
            "HTTP request sent, awaiting response... 200 OK\n",
            "Length: 238942690 (228M) [application/octet-stream]\n",
            "Saving to: ‘/tmp/training_cleaned.csv’\n",
            "\n",
            "/tmp/training_clean 100%[===================>] 227.87M  96.7MB/s    in 2.4s    \n",
            "\n",
            "2019-10-01 13:04:29 (96.7 MB/s) - ‘/tmp/training_cleaned.csv’ saved [238942690/238942690]\n",
            "\n"
          ],
          "name": "stdout"
        }
      ]
    },
    {
      "cell_type": "code",
      "metadata": {
        "id": "3kxblBUjEUX-",
        "colab_type": "code",
        "outputId": "4cc0e838-fca2-4d14-bfcc-10845e15f0f1",
        "colab": {
          "base_uri": "https://localhost:8080/",
          "height": 67
        }
      },
      "source": [
        "print(num_sentences)\n",
        "print(len(corpus))\n",
        "print(corpus[1])\n",
        "\n",
        "# Expected Output:\n",
        "# 1600000\n",
        "# 1600000\n",
        "# [\"is upset that he can't update his Facebook by texting it... and might cry as a result  School today also. Blah!\", 0]"
      ],
      "execution_count": 0,
      "outputs": [
        {
          "output_type": "stream",
          "text": [
            "1600000\n",
            "1600000\n",
            "[\"is upset that he can't update his Facebook by texting it... and might cry as a result  School today also. Blah!\", 0]\n"
          ],
          "name": "stdout"
        }
      ]
    },
    {
      "cell_type": "code",
      "metadata": {
        "id": "ohOGz24lsNAD",
        "colab_type": "code",
        "colab": {}
      },
      "source": [
        "sentences=[]\n",
        "labels=[]\n",
        "random.shuffle(corpus)\n",
        "for x in range(training_size):\n",
        "    sentences.append(corpus[x][0])\n",
        "    labels.append(corpus[x][1])\n",
        "\n",
        "\n",
        "tokenizer = Tokenizer()\n",
        "tokenizer.fit_on_texts(sentences)\n",
        "\n",
        "word_index = tokenizer.word_index\n",
        "vocab_size=len(word_index)\n",
        "\n",
        "sequences = tokenizer.texts_to_sequences(sentences)\n",
        "padded = pad_sequences(sequences, maxlen=max_length, padding=padding_type, truncating=trunc_type)\n",
        "\n",
        "split = int(test_portion * training_size)\n",
        "\n",
        "test_sequences = padded[0:split]\n",
        "training_sequences = padded[split:training_size]\n",
        "test_labels = labels[0:split]\n",
        "training_labels = labels[split:training_size]"
      ],
      "execution_count": 0,
      "outputs": []
    },
    {
      "cell_type": "code",
      "metadata": {
        "id": "gIrtRem1En3N",
        "colab_type": "code",
        "outputId": "18830c7d-a5cc-4dc8-8471-04e6245d1c25",
        "colab": {
          "base_uri": "https://localhost:8080/",
          "height": 50
        }
      },
      "source": [
        "print(vocab_size)\n",
        "print(word_index['i'])\n",
        "# Expected Output\n",
        "# 138858\n",
        "# 1"
      ],
      "execution_count": 0,
      "outputs": [
        {
          "output_type": "stream",
          "text": [
            "138865\n",
            "1\n"
          ],
          "name": "stdout"
        }
      ]
    },
    {
      "cell_type": "code",
      "metadata": {
        "id": "C1zdgJkusRh0",
        "colab_type": "code",
        "outputId": "923866de-f203-43ab-c88d-480c202a7257",
        "colab": {
          "base_uri": "https://localhost:8080/",
          "height": 202
        }
      },
      "source": [
        "# Note this is the 100 dimension version of GloVe from Stanford\n",
        "# I unzipped and hosted it on my site to make this notebook easier\n",
        "!wget --no-check-certificate \\\n",
        "    https://storage.googleapis.com/laurencemoroney-blog.appspot.com/glove.6B.100d.txt \\\n",
        "    -O /tmp/glove.6B.100d.txt\n",
        "embeddings_index = {};\n",
        "with open('/tmp/glove.6B.100d.txt') as f:\n",
        "    for line in f:\n",
        "        values = line.split();\n",
        "        word = values[0];\n",
        "        coefs = np.asarray(values[1:], dtype='float32');\n",
        "        embeddings_index[word] = coefs;\n",
        "\n",
        "embeddings_matrix = np.zeros((vocab_size+1, embedding_dim));\n",
        "for word, i in word_index.items():\n",
        "    embedding_vector = embeddings_index.get(word);\n",
        "    if embedding_vector is not None:\n",
        "        embeddings_matrix[i] = embedding_vector;"
      ],
      "execution_count": 0,
      "outputs": [
        {
          "output_type": "stream",
          "text": [
            "--2019-10-01 13:04:55--  https://storage.googleapis.com/laurencemoroney-blog.appspot.com/glove.6B.100d.txt\n",
            "Resolving storage.googleapis.com (storage.googleapis.com)... 172.217.25.240, 2404:6800:4004:80a::2010\n",
            "Connecting to storage.googleapis.com (storage.googleapis.com)|172.217.25.240|:443... connected.\n",
            "HTTP request sent, awaiting response... 200 OK\n",
            "Length: 347116733 (331M) [text/plain]\n",
            "Saving to: ‘/tmp/glove.6B.100d.txt’\n",
            "\n",
            "/tmp/glove.6B.100d. 100%[===================>] 331.04M   110MB/s    in 3.0s    \n",
            "\n",
            "2019-10-01 13:04:59 (110 MB/s) - ‘/tmp/glove.6B.100d.txt’ saved [347116733/347116733]\n",
            "\n"
          ],
          "name": "stdout"
        }
      ]
    },
    {
      "cell_type": "code",
      "metadata": {
        "id": "71NLk_lpFLNt",
        "colab_type": "code",
        "outputId": "30a09f5b-fcb7-4b81-ad0c-66263ef86790",
        "colab": {
          "base_uri": "https://localhost:8080/",
          "height": 34
        }
      },
      "source": [
        "print(len(embeddings_matrix))\n",
        "# Expected Output\n",
        "# 138859"
      ],
      "execution_count": 0,
      "outputs": [
        {
          "output_type": "stream",
          "text": [
            "138866\n"
          ],
          "name": "stdout"
        }
      ]
    },
    {
      "cell_type": "code",
      "metadata": {
        "colab_type": "code",
        "id": "iKKvbuEBOGFz",
        "outputId": "936d27fc-965a-4655-9a4d-c6847d6e7219",
        "colab": {
          "base_uri": "https://localhost:8080/",
          "height": 1000
        }
      },
      "source": [
        "model = tf.keras.Sequential([\n",
        "    tf.keras.layers.Embedding(vocab_size+1, embedding_dim, input_length=max_length, weights=[embeddings_matrix], trainable=False),\n",
        "    #- experiment with combining different types, such as convolutions and LSTMs\n",
        "    tf.keras.layers.Conv1D(64, 5, activation='relu'),\n",
        "    tf.keras.layers.MaxPooling1D(pool_size=4),\n",
        "    tf.keras.layers.LSTM(64),\n",
        "    tf.keras.layers.Dense(1, activation='sigmoid')\n",
        "])\n",
        "model.compile(loss='binary_crossentropy', optimizer='adam', metrics=['accuracy'])\n",
        "model.summary()\n",
        "\n",
        "num_epochs = 50\n",
        "history = model.fit(training_sequences, training_labels, epochs=num_epochs, validation_data=(test_sequences, test_labels), verbose=2)\n",
        "\n",
        "print(\"Training Complete\")\n"
      ],
      "execution_count": 0,
      "outputs": [
        {
          "output_type": "stream",
          "text": [
            "WARNING:tensorflow:From /usr/local/lib/python3.6/dist-packages/tensorflow/python/keras/initializers.py:119: calling RandomUniform.__init__ (from tensorflow.python.ops.init_ops) with dtype is deprecated and will be removed in a future version.\n",
            "Instructions for updating:\n",
            "Call initializer instance with the dtype argument instead of passing it to the constructor\n",
            "WARNING:tensorflow:From /usr/local/lib/python3.6/dist-packages/tensorflow/python/ops/init_ops.py:1251: calling VarianceScaling.__init__ (from tensorflow.python.ops.init_ops) with dtype is deprecated and will be removed in a future version.\n",
            "Instructions for updating:\n",
            "Call initializer instance with the dtype argument instead of passing it to the constructor\n",
            "WARNING:tensorflow:From /usr/local/lib/python3.6/dist-packages/tensorflow/python/ops/nn_impl.py:180: add_dispatch_support.<locals>.wrapper (from tensorflow.python.ops.array_ops) is deprecated and will be removed in a future version.\n",
            "Instructions for updating:\n",
            "Use tf.where in 2.0, which has the same broadcast rule as np.where\n",
            "Model: \"sequential\"\n",
            "_________________________________________________________________\n",
            "Layer (type)                 Output Shape              Param #   \n",
            "=================================================================\n",
            "embedding (Embedding)        (None, 16, 100)           13886600  \n",
            "_________________________________________________________________\n",
            "conv1d (Conv1D)              (None, 12, 64)            32064     \n",
            "_________________________________________________________________\n",
            "max_pooling1d (MaxPooling1D) (None, 3, 64)             0         \n",
            "_________________________________________________________________\n",
            "lstm (LSTM)                  (None, 64)                33024     \n",
            "_________________________________________________________________\n",
            "dense (Dense)                (None, 1)                 65        \n",
            "=================================================================\n",
            "Total params: 13,951,753\n",
            "Trainable params: 65,153\n",
            "Non-trainable params: 13,886,600\n",
            "_________________________________________________________________\n",
            "Train on 144000 samples, validate on 16000 samples\n",
            "Epoch 1/50\n",
            "144000/144000 - 43s - loss: 0.5501 - acc: 0.7141 - val_loss: 0.5344 - val_acc: 0.7281\n",
            "Epoch 2/50\n",
            "144000/144000 - 39s - loss: 0.5016 - acc: 0.7517 - val_loss: 0.5188 - val_acc: 0.7378\n",
            "Epoch 3/50\n",
            "144000/144000 - 39s - loss: 0.4765 - acc: 0.7685 - val_loss: 0.5103 - val_acc: 0.7467\n",
            "Epoch 4/50\n",
            "144000/144000 - 39s - loss: 0.4580 - acc: 0.7802 - val_loss: 0.5181 - val_acc: 0.7431\n",
            "Epoch 5/50\n",
            "144000/144000 - 39s - loss: 0.4407 - acc: 0.7907 - val_loss: 0.5242 - val_acc: 0.7434\n",
            "Epoch 6/50\n",
            "144000/144000 - 39s - loss: 0.4255 - acc: 0.8007 - val_loss: 0.5274 - val_acc: 0.7431\n",
            "Epoch 7/50\n",
            "144000/144000 - 39s - loss: 0.4103 - acc: 0.8085 - val_loss: 0.5344 - val_acc: 0.7448\n",
            "Epoch 8/50\n",
            "144000/144000 - 40s - loss: 0.3954 - acc: 0.8164 - val_loss: 0.5524 - val_acc: 0.7418\n",
            "Epoch 9/50\n",
            "144000/144000 - 40s - loss: 0.3808 - acc: 0.8256 - val_loss: 0.5628 - val_acc: 0.7341\n",
            "Epoch 10/50\n",
            "144000/144000 - 39s - loss: 0.3673 - acc: 0.8316 - val_loss: 0.5622 - val_acc: 0.7348\n",
            "Epoch 11/50\n",
            "144000/144000 - 39s - loss: 0.3533 - acc: 0.8400 - val_loss: 0.6002 - val_acc: 0.7308\n",
            "Epoch 12/50\n",
            "144000/144000 - 39s - loss: 0.3403 - acc: 0.8460 - val_loss: 0.6309 - val_acc: 0.7308\n",
            "Epoch 13/50\n",
            "144000/144000 - 39s - loss: 0.3267 - acc: 0.8530 - val_loss: 0.6366 - val_acc: 0.7301\n",
            "Epoch 14/50\n",
            "144000/144000 - 39s - loss: 0.3141 - acc: 0.8597 - val_loss: 0.6625 - val_acc: 0.7256\n",
            "Epoch 15/50\n",
            "144000/144000 - 39s - loss: 0.3032 - acc: 0.8655 - val_loss: 0.6854 - val_acc: 0.7243\n",
            "Epoch 16/50\n",
            "144000/144000 - 40s - loss: 0.2935 - acc: 0.8693 - val_loss: 0.7028 - val_acc: 0.7275\n",
            "Epoch 17/50\n",
            "144000/144000 - 39s - loss: 0.2829 - acc: 0.8752 - val_loss: 0.7139 - val_acc: 0.7179\n",
            "Epoch 18/50\n",
            "144000/144000 - 39s - loss: 0.2718 - acc: 0.8806 - val_loss: 0.7676 - val_acc: 0.7213\n",
            "Epoch 19/50\n",
            "144000/144000 - 39s - loss: 0.2646 - acc: 0.8839 - val_loss: 0.8000 - val_acc: 0.7203\n",
            "Epoch 20/50\n",
            "144000/144000 - 39s - loss: 0.2561 - acc: 0.8879 - val_loss: 0.8092 - val_acc: 0.7142\n",
            "Epoch 21/50\n",
            "144000/144000 - 39s - loss: 0.2485 - acc: 0.8915 - val_loss: 0.8521 - val_acc: 0.7172\n",
            "Epoch 22/50\n",
            "144000/144000 - 39s - loss: 0.2435 - acc: 0.8936 - val_loss: 0.8445 - val_acc: 0.7146\n",
            "Epoch 23/50\n",
            "144000/144000 - 39s - loss: 0.2350 - acc: 0.8984 - val_loss: 0.8592 - val_acc: 0.7170\n",
            "Epoch 24/50\n",
            "144000/144000 - 40s - loss: 0.2296 - acc: 0.9013 - val_loss: 0.9054 - val_acc: 0.7146\n",
            "Epoch 25/50\n",
            "144000/144000 - 39s - loss: 0.2243 - acc: 0.9033 - val_loss: 0.9433 - val_acc: 0.7124\n",
            "Epoch 26/50\n",
            "144000/144000 - 39s - loss: 0.2169 - acc: 0.9063 - val_loss: 0.9647 - val_acc: 0.7130\n",
            "Epoch 27/50\n",
            "144000/144000 - 39s - loss: 0.2137 - acc: 0.9084 - val_loss: 0.9717 - val_acc: 0.7092\n",
            "Epoch 28/50\n",
            "144000/144000 - 39s - loss: 0.2079 - acc: 0.9113 - val_loss: 0.9643 - val_acc: 0.7113\n",
            "Epoch 29/50\n",
            "144000/144000 - 39s - loss: 0.2041 - acc: 0.9128 - val_loss: 0.9970 - val_acc: 0.7074\n",
            "Epoch 30/50\n",
            "144000/144000 - 39s - loss: 0.2006 - acc: 0.9147 - val_loss: 1.0111 - val_acc: 0.7058\n",
            "Epoch 31/50\n",
            "144000/144000 - 39s - loss: 0.1964 - acc: 0.9161 - val_loss: 1.0526 - val_acc: 0.7044\n",
            "Epoch 32/50\n",
            "144000/144000 - 39s - loss: 0.1930 - acc: 0.9176 - val_loss: 1.0420 - val_acc: 0.7086\n",
            "Epoch 33/50\n",
            "144000/144000 - 39s - loss: 0.1900 - acc: 0.9192 - val_loss: 1.1438 - val_acc: 0.7099\n",
            "Epoch 34/50\n",
            "144000/144000 - 39s - loss: 0.1884 - acc: 0.9205 - val_loss: 1.1198 - val_acc: 0.7075\n",
            "Epoch 35/50\n",
            "144000/144000 - 39s - loss: 0.1827 - acc: 0.9232 - val_loss: 1.0820 - val_acc: 0.7065\n",
            "Epoch 36/50\n",
            "144000/144000 - 39s - loss: 0.1816 - acc: 0.9237 - val_loss: 1.1394 - val_acc: 0.7113\n",
            "Epoch 37/50\n",
            "144000/144000 - 39s - loss: 0.1775 - acc: 0.9246 - val_loss: 1.1749 - val_acc: 0.7080\n",
            "Epoch 38/50\n",
            "144000/144000 - 39s - loss: 0.1749 - acc: 0.9262 - val_loss: 1.1826 - val_acc: 0.7093\n",
            "Epoch 39/50\n",
            "144000/144000 - 39s - loss: 0.1738 - acc: 0.9268 - val_loss: 1.2025 - val_acc: 0.7065\n",
            "Epoch 40/50\n",
            "144000/144000 - 40s - loss: 0.1722 - acc: 0.9282 - val_loss: 1.1626 - val_acc: 0.7062\n",
            "Epoch 41/50\n",
            "144000/144000 - 39s - loss: 0.1703 - acc: 0.9292 - val_loss: 1.2055 - val_acc: 0.7096\n",
            "Epoch 42/50\n",
            "144000/144000 - 39s - loss: 0.1680 - acc: 0.9299 - val_loss: 1.1935 - val_acc: 0.7070\n",
            "Epoch 43/50\n",
            "144000/144000 - 39s - loss: 0.1669 - acc: 0.9314 - val_loss: 1.2225 - val_acc: 0.7088\n",
            "Epoch 44/50\n",
            "144000/144000 - 39s - loss: 0.1652 - acc: 0.9316 - val_loss: 1.2262 - val_acc: 0.7059\n",
            "Epoch 45/50\n",
            "144000/144000 - 39s - loss: 0.1634 - acc: 0.9318 - val_loss: 1.2677 - val_acc: 0.7083\n",
            "Epoch 46/50\n",
            "144000/144000 - 39s - loss: 0.1618 - acc: 0.9325 - val_loss: 1.2305 - val_acc: 0.7082\n",
            "Epoch 47/50\n",
            "144000/144000 - 39s - loss: 0.1610 - acc: 0.9331 - val_loss: 1.2572 - val_acc: 0.7091\n",
            "Epoch 48/50\n",
            "144000/144000 - 39s - loss: 0.1591 - acc: 0.9340 - val_loss: 1.2214 - val_acc: 0.7059\n",
            "Epoch 49/50\n",
            "144000/144000 - 39s - loss: 0.1581 - acc: 0.9348 - val_loss: 1.2671 - val_acc: 0.7062\n",
            "Epoch 50/50\n",
            "144000/144000 - 39s - loss: 0.1573 - acc: 0.9349 - val_loss: 1.2763 - val_acc: 0.7030\n",
            "Training Complete\n"
          ],
          "name": "stdout"
        }
      ]
    },
    {
      "cell_type": "code",
      "metadata": {
        "id": "qxju4ItJKO8F",
        "colab_type": "code",
        "outputId": "a1f47f82-97fc-4be7-dfd1-0e40b1f1baaa",
        "colab": {
          "base_uri": "https://localhost:8080/",
          "height": 606
        }
      },
      "source": [
        "import matplotlib.image  as mpimg\n",
        "import matplotlib.pyplot as plt\n",
        "\n",
        "#-----------------------------------------------------------\n",
        "# Retrieve a list of list results on training and test data\n",
        "# sets for each training epoch\n",
        "#-----------------------------------------------------------\n",
        "acc=history.history['acc']\n",
        "val_acc=history.history['val_acc']\n",
        "loss=history.history['loss']\n",
        "val_loss=history.history['val_loss']\n",
        "\n",
        "epochs=range(len(acc)) # Get number of epochs\n",
        "\n",
        "#------------------------------------------------\n",
        "# Plot training and validation accuracy per epoch\n",
        "#------------------------------------------------\n",
        "plt.plot(epochs, acc, 'r')\n",
        "plt.plot(epochs, val_acc, 'b')\n",
        "plt.title('Training and validation accuracy')\n",
        "plt.xlabel(\"Epochs\")\n",
        "plt.ylabel(\"Accuracy\")\n",
        "plt.legend([\"Accuracy\", \"Validation Accuracy\"])\n",
        "\n",
        "plt.figure()\n",
        "\n",
        "#------------------------------------------------\n",
        "# Plot training and validation loss per epoch\n",
        "#------------------------------------------------\n",
        "plt.plot(epochs, loss, 'r')\n",
        "plt.plot(epochs, val_loss, 'b')\n",
        "plt.title('Training and validation loss')\n",
        "plt.xlabel(\"Epochs\")\n",
        "plt.ylabel(\"Loss\")\n",
        "plt.legend([\"Loss\", \"Validation Loss\"])\n",
        "\n",
        "plt.figure()\n",
        "\n",
        "\n",
        "# Expected Output\n",
        "# A chart where the validation loss does not increase sharply!"
      ],
      "execution_count": 0,
      "outputs": [
        {
          "output_type": "execute_result",
          "data": {
            "text/plain": [
              "<Figure size 432x288 with 0 Axes>"
            ]
          },
          "metadata": {
            "tags": []
          },
          "execution_count": 10
        },
        {
          "output_type": "display_data",
          "data": {
            "image/png": "[encoded data removed]",
            "text/plain": [
              "<Figure size 432x288 with 1 Axes>"
            ]
          },
          "metadata": {
            "tags": []
          }
        },
        {
          "output_type": "display_data",
          "data": {
            "image/png": "[encoded data removed]",
            "text/plain": [
              "<Figure size 432x288 with 1 Axes>"
            ]
          },
          "metadata": {
            "tags": []
          }
        },
        {
          "output_type": "display_data",
          "data": {
            "text/plain": [
              "<Figure size 432x288 with 0 Axes>"
            ]
          },
          "metadata": {
            "tags": []
          }
        }
      ]
    }
  ]
}