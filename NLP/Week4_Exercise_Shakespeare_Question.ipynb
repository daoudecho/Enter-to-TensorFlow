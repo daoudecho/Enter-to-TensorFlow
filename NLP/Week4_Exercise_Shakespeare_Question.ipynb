{
  "nbformat": 4,
  "nbformat_minor": 0,
  "metadata": {
    "colab": {
      "name": "NLP-Week4-Exercise-Shakespeare-Question.ipynb",
      "provenance": [],
      "include_colab_link": true
    },
    "kernelspec": {
      "name": "python3",
      "display_name": "Python 3"
    },
    "accelerator": "GPU"
  },
  "cells": [
    {
      "cell_type": "markdown",
      "metadata": {
        "id": "view-in-github",
        "colab_type": "text"
      },
      "source": [
        "<a href=\"https://colab.research.google.com/github/daoudecho/Enter-to-TensorFlow/blob/master/NLP/Week4_Exercise_Shakespeare_Question.ipynb\" target=\"_parent\"><img src=\"https://colab.research.google.com/assets/colab-badge.svg\" alt=\"Open In Colab\"/></a>"
      ]
    },
    {
      "cell_type": "code",
      "metadata": {
        "id": "BOwsuGQQY9OL",
        "colab_type": "code",
        "colab": {}
      },
      "source": [
        "from tensorflow.keras.preprocessing.sequence import pad_sequences\n",
        "from tensorflow.keras.layers import Embedding, LSTM, Dense, Dropout, Bidirectional\n",
        "from tensorflow.keras.preprocessing.text import Tokenizer\n",
        "from tensorflow.keras.models import Sequential\n",
        "from tensorflow.keras.optimizers import Adam\n",
        "from tensorflow.keras import regularizers\n",
        "import tensorflow.keras.utils as ku \n",
        "import numpy as np "
      ],
      "execution_count": 0,
      "outputs": []
    },
    {
      "cell_type": "code",
      "metadata": {
        "colab_type": "code",
        "id": "PRnDnCW-Z7qv",
        "outputId": "e3689081-1011-4e19-b655-86b0204464c2",
        "colab": {
          "base_uri": "https://localhost:8080/",
          "height": 202
        }
      },
      "source": [
        "tokenizer = Tokenizer()\n",
        "!wget --no-check-certificate \\\n",
        "    https://storage.googleapis.com/laurencemoroney-blog.appspot.com/sonnets.txt \\\n",
        "    -O /tmp/sonnets.txt\n",
        "data = open('/tmp/sonnets.txt').read()\n",
        "\n",
        "corpus = data.lower().split(\"\\n\")\n",
        "\n",
        "\n",
        "tokenizer.fit_on_texts(corpus)\n",
        "total_words = len(tokenizer.word_index) + 1\n",
        "\n",
        "# create input sequences using list of tokens\n",
        "input_sequences = []\n",
        "for line in corpus:\n",
        "\ttoken_list = tokenizer.texts_to_sequences([line])[0]\n",
        "\tfor i in range(1, len(token_list)):\n",
        "\t\tn_gram_sequence = token_list[:i+1]\n",
        "\t\tinput_sequences.append(n_gram_sequence)\n",
        "\n",
        "\n",
        "# pad sequences \n",
        "max_sequence_len = max([len(x) for x in input_sequences])\n",
        "input_sequences = np.array(pad_sequences(input_sequences, maxlen=max_sequence_len, padding='pre'))\n",
        "\n",
        "# create predictors and label\n",
        "predictors, label = input_sequences[:,:-1],input_sequences[:,-1]\n",
        "\n",
        "label = ku.to_categorical(label, num_classes=total_words)"
      ],
      "execution_count": 0,
      "outputs": [
        {
          "output_type": "stream",
          "text": [
            "--2019-10-01 17:02:39--  https://storage.googleapis.com/laurencemoroney-blog.appspot.com/sonnets.txt\n",
            "Resolving storage.googleapis.com (storage.googleapis.com)... 74.125.200.128, 2404:6800:4003:c02::80\n",
            "Connecting to storage.googleapis.com (storage.googleapis.com)|74.125.200.128|:443... connected.\n",
            "HTTP request sent, awaiting response... 200 OK\n",
            "Length: 93578 (91K) [text/plain]\n",
            "Saving to: ‘/tmp/sonnets.txt’\n",
            "\n",
            "/tmp/sonnets.txt    100%[===================>]  91.38K  --.-KB/s    in 0.001s  \n",
            "\n",
            "2019-10-01 17:02:40 (125 MB/s) - ‘/tmp/sonnets.txt’ saved [93578/93578]\n",
            "\n"
          ],
          "name": "stdout"
        }
      ]
    },
    {
      "cell_type": "code",
      "metadata": {
        "id": "w9vH8Y59ajYL",
        "colab_type": "code",
        "outputId": "8b3a16c3-e8ef-421d-a568-8dcadb59d9ff",
        "colab": {
          "base_uri": "https://localhost:8080/",
          "height": 642
        }
      },
      "source": [
        "model = Sequential()\n",
        "model.add(Embedding(total_words,100,input_length=max_sequence_len -1 ))\n",
        "model.add(Bidirectional(LSTM(150, return_sequences=True)))\n",
        "model.add(Dropout(0.2))\n",
        "model.add(LSTM(100))\n",
        "model.add(Dense(total_words, activation='relu'))\n",
        "model.add(Dense(total_words, activation='softmax'))\n",
        "adam=Adam(lr=0.01)\n",
        "model.compile(loss='binary_crossentropy', optimizer=adam, metrics=['accuracy'])\n",
        "print(model.summary())\n"
      ],
      "execution_count": 0,
      "outputs": [
        {
          "output_type": "stream",
          "text": [
            "WARNING:tensorflow:From /usr/local/lib/python3.6/dist-packages/tensorflow/python/keras/initializers.py:119: calling RandomUniform.__init__ (from tensorflow.python.ops.init_ops) with dtype is deprecated and will be removed in a future version.\n",
            "Instructions for updating:\n",
            "Call initializer instance with the dtype argument instead of passing it to the constructor\n",
            "WARNING:tensorflow:From /usr/local/lib/python3.6/dist-packages/tensorflow/python/ops/init_ops.py:1251: calling VarianceScaling.__init__ (from tensorflow.python.ops.init_ops) with dtype is deprecated and will be removed in a future version.\n",
            "Instructions for updating:\n",
            "Call initializer instance with the dtype argument instead of passing it to the constructor\n",
            "WARNING:tensorflow:From /usr/local/lib/python3.6/dist-packages/tensorflow/python/ops/init_ops.py:97: calling GlorotUniform.__init__ (from tensorflow.python.ops.init_ops) with dtype is deprecated and will be removed in a future version.\n",
            "Instructions for updating:\n",
            "Call initializer instance with the dtype argument instead of passing it to the constructor\n",
            "WARNING:tensorflow:From /usr/local/lib/python3.6/dist-packages/tensorflow/python/ops/init_ops.py:97: calling Orthogonal.__init__ (from tensorflow.python.ops.init_ops) with dtype is deprecated and will be removed in a future version.\n",
            "Instructions for updating:\n",
            "Call initializer instance with the dtype argument instead of passing it to the constructor\n",
            "WARNING:tensorflow:From /usr/local/lib/python3.6/dist-packages/tensorflow/python/ops/init_ops.py:97: calling Zeros.__init__ (from tensorflow.python.ops.init_ops) with dtype is deprecated and will be removed in a future version.\n",
            "Instructions for updating:\n",
            "Call initializer instance with the dtype argument instead of passing it to the constructor\n",
            "Model: \"sequential_1\"\n",
            "_________________________________________________________________\n",
            "Layer (type)                 Output Shape              Param #   \n",
            "=================================================================\n",
            "embedding (Embedding)        (None, 10, 100)           321100    \n",
            "_________________________________________________________________\n",
            "bidirectional (Bidirectional (None, 10, 300)           301200    \n",
            "_________________________________________________________________\n",
            "dropout (Dropout)            (None, 10, 300)           0         \n",
            "_________________________________________________________________\n",
            "lstm_1 (LSTM)                (None, 100)               160400    \n",
            "_________________________________________________________________\n",
            "dense (Dense)                (None, 3211)              324311    \n",
            "_________________________________________________________________\n",
            "dense_1 (Dense)              (None, 3211)              10313732  \n",
            "=================================================================\n",
            "Total params: 11,420,743\n",
            "Trainable params: 11,420,743\n",
            "Non-trainable params: 0\n",
            "_________________________________________________________________\n",
            "None\n"
          ],
          "name": "stdout"
        }
      ]
    },
    {
      "cell_type": "code",
      "metadata": {
        "id": "AIg2f1HBxqof",
        "colab_type": "code",
        "outputId": "fa524d86-fe39-4c5a-d544-83ec06ff2fa0",
        "colab": {
          "base_uri": "https://localhost:8080/",
          "height": 1000
        }
      },
      "source": [
        " history = model.fit(predictors, label, epochs=100, verbose=1)"
      ],
      "execution_count": 0,
      "outputs": [
        {
          "output_type": "stream",
          "text": [
            "WARNING:tensorflow:From /usr/local/lib/python3.6/dist-packages/tensorflow/python/ops/math_grad.py:1250: add_dispatch_support.<locals>.wrapper (from tensorflow.python.ops.array_ops) is deprecated and will be removed in a future version.\n",
            "Instructions for updating:\n",
            "Use tf.where in 2.0, which has the same broadcast rule as np.where\n",
            "Epoch 1/100\n",
            "15462/15462 [==============================] - 29s 2ms/sample - loss: 0.0024 - acc: 0.9997\n",
            "Epoch 2/100\n",
            "15462/15462 [==============================] - 27s 2ms/sample - loss: 0.0023 - acc: 0.9997\n",
            "Epoch 3/100\n",
            "15462/15462 [==============================] - 27s 2ms/sample - loss: 0.0022 - acc: 0.9997\n",
            "Epoch 4/100\n",
            "15462/15462 [==============================] - 27s 2ms/sample - loss: 0.0022 - acc: 0.9997\n",
            "Epoch 5/100\n",
            "15462/15462 [==============================] - 27s 2ms/sample - loss: 0.0021 - acc: 0.9997\n",
            "Epoch 6/100\n",
            "15462/15462 [==============================] - 27s 2ms/sample - loss: 0.0020 - acc: 0.9997\n",
            "Epoch 7/100\n",
            "15462/15462 [==============================] - 27s 2ms/sample - loss: 0.0019 - acc: 0.9997\n",
            "Epoch 8/100\n",
            "15462/15462 [==============================] - 27s 2ms/sample - loss: 0.0018 - acc: 0.9997\n",
            "Epoch 9/100\n",
            "15462/15462 [==============================] - 27s 2ms/sample - loss: 0.0018 - acc: 0.9997\n",
            "Epoch 10/100\n",
            "15462/15462 [==============================] - 27s 2ms/sample - loss: 0.0017 - acc: 0.9997\n",
            "Epoch 11/100\n",
            "15462/15462 [==============================] - 27s 2ms/sample - loss: 0.0016 - acc: 0.9997\n",
            "Epoch 12/100\n",
            "15462/15462 [==============================] - 27s 2ms/sample - loss: 0.0016 - acc: 0.9997\n",
            "Epoch 13/100\n",
            "15462/15462 [==============================] - 27s 2ms/sample - loss: 0.0015 - acc: 0.9997\n",
            "Epoch 14/100\n",
            "15462/15462 [==============================] - 27s 2ms/sample - loss: 0.0015 - acc: 0.9997\n",
            "Epoch 15/100\n",
            "15462/15462 [==============================] - 27s 2ms/sample - loss: 0.0015 - acc: 0.9997\n",
            "Epoch 16/100\n",
            "15462/15462 [==============================] - 27s 2ms/sample - loss: 0.0014 - acc: 0.9997\n",
            "Epoch 17/100\n",
            "15462/15462 [==============================] - 27s 2ms/sample - loss: 0.0014 - acc: 0.9997\n",
            "Epoch 18/100\n",
            "15462/15462 [==============================] - 27s 2ms/sample - loss: 0.0014 - acc: 0.9997\n",
            "Epoch 19/100\n",
            "15462/15462 [==============================] - 27s 2ms/sample - loss: 0.0013 - acc: 0.9997\n",
            "Epoch 20/100\n",
            "15462/15462 [==============================] - 27s 2ms/sample - loss: 0.0013 - acc: 0.9997\n",
            "Epoch 21/100\n",
            "15462/15462 [==============================] - 27s 2ms/sample - loss: 0.0013 - acc: 0.9997\n",
            "Epoch 22/100\n",
            "15462/15462 [==============================] - 27s 2ms/sample - loss: 0.0013 - acc: 0.9997\n",
            "Epoch 23/100\n",
            "15462/15462 [==============================] - 27s 2ms/sample - loss: 0.0013 - acc: 0.9997\n",
            "Epoch 24/100\n",
            "15462/15462 [==============================] - 27s 2ms/sample - loss: 0.0013 - acc: 0.9997\n",
            "Epoch 25/100\n",
            "15462/15462 [==============================] - 26s 2ms/sample - loss: 0.0012 - acc: 0.9997\n",
            "Epoch 26/100\n",
            "15462/15462 [==============================] - 27s 2ms/sample - loss: 0.0012 - acc: 0.9997\n",
            "Epoch 27/100\n",
            "15462/15462 [==============================] - 26s 2ms/sample - loss: 0.0012 - acc: 0.9997\n",
            "Epoch 28/100\n",
            "15462/15462 [==============================] - 27s 2ms/sample - loss: 0.0012 - acc: 0.9997\n",
            "Epoch 29/100\n",
            "15462/15462 [==============================] - 27s 2ms/sample - loss: 0.0012 - acc: 0.9997\n",
            "Epoch 30/100\n",
            "15462/15462 [==============================] - 27s 2ms/sample - loss: 0.0012 - acc: 0.9997\n",
            "Epoch 31/100\n",
            "15462/15462 [==============================] - 27s 2ms/sample - loss: 0.0012 - acc: 0.9997\n",
            "Epoch 32/100\n",
            "15462/15462 [==============================] - 27s 2ms/sample - loss: 0.0012 - acc: 0.9997\n",
            "Epoch 33/100\n",
            "15462/15462 [==============================] - 28s 2ms/sample - loss: 0.0012 - acc: 0.9997\n",
            "Epoch 34/100\n",
            "15462/15462 [==============================] - 28s 2ms/sample - loss: 0.0012 - acc: 0.9997\n",
            "Epoch 35/100\n",
            "15462/15462 [==============================] - 28s 2ms/sample - loss: 0.0012 - acc: 0.9997\n",
            "Epoch 36/100\n",
            "15462/15462 [==============================] - 28s 2ms/sample - loss: 0.0012 - acc: 0.9997\n",
            "Epoch 37/100\n",
            "15462/15462 [==============================] - 29s 2ms/sample - loss: 0.0012 - acc: 0.9997\n",
            "Epoch 38/100\n",
            "15462/15462 [==============================] - 29s 2ms/sample - loss: 0.0011 - acc: 0.9997\n",
            "Epoch 39/100\n",
            "15462/15462 [==============================] - 29s 2ms/sample - loss: 0.0011 - acc: 0.9997\n",
            "Epoch 40/100\n",
            "15462/15462 [==============================] - 28s 2ms/sample - loss: 0.0011 - acc: 0.9997\n",
            "Epoch 41/100\n",
            "15462/15462 [==============================] - 27s 2ms/sample - loss: 0.0011 - acc: 0.9997\n",
            "Epoch 42/100\n",
            "15462/15462 [==============================] - 27s 2ms/sample - loss: 0.0011 - acc: 0.9997\n",
            "Epoch 43/100\n",
            "15462/15462 [==============================] - 27s 2ms/sample - loss: 0.0011 - acc: 0.9997\n",
            "Epoch 44/100\n",
            "15462/15462 [==============================] - 27s 2ms/sample - loss: 0.0012 - acc: 0.9997\n",
            "Epoch 45/100\n",
            "15462/15462 [==============================] - 27s 2ms/sample - loss: 0.0011 - acc: 0.9997\n",
            "Epoch 46/100\n",
            "15462/15462 [==============================] - 27s 2ms/sample - loss: 0.0011 - acc: 0.9997\n",
            "Epoch 47/100\n",
            "15462/15462 [==============================] - 27s 2ms/sample - loss: 0.0011 - acc: 0.9997\n",
            "Epoch 48/100\n",
            "15462/15462 [==============================] - 27s 2ms/sample - loss: 0.0011 - acc: 0.9997\n",
            "Epoch 49/100\n",
            "15462/15462 [==============================] - 27s 2ms/sample - loss: 0.0011 - acc: 0.9997\n",
            "Epoch 50/100\n",
            "15462/15462 [==============================] - 27s 2ms/sample - loss: 0.0011 - acc: 0.9997\n",
            "Epoch 51/100\n",
            "15462/15462 [==============================] - 27s 2ms/sample - loss: 0.0011 - acc: 0.9997\n",
            "Epoch 52/100\n",
            "15462/15462 [==============================] - 27s 2ms/sample - loss: 0.0011 - acc: 0.9997\n",
            "Epoch 53/100\n",
            "15462/15462 [==============================] - 27s 2ms/sample - loss: 0.0011 - acc: 0.9997\n",
            "Epoch 54/100\n",
            "15462/15462 [==============================] - 27s 2ms/sample - loss: 0.0011 - acc: 0.9997\n",
            "Epoch 55/100\n",
            "15462/15462 [==============================] - 27s 2ms/sample - loss: 0.0011 - acc: 0.9997\n",
            "Epoch 56/100\n",
            "15462/15462 [==============================] - 27s 2ms/sample - loss: 0.0011 - acc: 0.9997\n",
            "Epoch 57/100\n",
            "15462/15462 [==============================] - 27s 2ms/sample - loss: 0.0011 - acc: 0.9997\n",
            "Epoch 58/100\n",
            "15462/15462 [==============================] - 27s 2ms/sample - loss: 0.0011 - acc: 0.9997\n",
            "Epoch 59/100\n",
            "15462/15462 [==============================] - 27s 2ms/sample - loss: 0.0011 - acc: 0.9997\n",
            "Epoch 60/100\n",
            "15462/15462 [==============================] - 27s 2ms/sample - loss: 0.0011 - acc: 0.9997\n",
            "Epoch 61/100\n",
            "15462/15462 [==============================] - 27s 2ms/sample - loss: 0.0011 - acc: 0.9997\n",
            "Epoch 62/100\n",
            "15462/15462 [==============================] - 27s 2ms/sample - loss: 0.0011 - acc: 0.9997\n",
            "Epoch 63/100\n",
            "15462/15462 [==============================] - 27s 2ms/sample - loss: 0.0011 - acc: 0.9997\n",
            "Epoch 64/100\n",
            "15462/15462 [==============================] - 28s 2ms/sample - loss: 0.0011 - acc: 0.9997\n",
            "Epoch 65/100\n",
            "15462/15462 [==============================] - 28s 2ms/sample - loss: 0.0011 - acc: 0.9997\n",
            "Epoch 66/100\n",
            "15462/15462 [==============================] - 28s 2ms/sample - loss: 0.0011 - acc: 0.9997\n",
            "Epoch 67/100\n",
            "15462/15462 [==============================] - 28s 2ms/sample - loss: 0.0011 - acc: 0.9997\n",
            "Epoch 68/100\n",
            "15462/15462 [==============================] - 28s 2ms/sample - loss: 0.0011 - acc: 0.9997\n",
            "Epoch 69/100\n",
            "15462/15462 [==============================] - 28s 2ms/sample - loss: 0.0011 - acc: 0.9997\n",
            "Epoch 70/100\n",
            "15462/15462 [==============================] - 28s 2ms/sample - loss: 0.0011 - acc: 0.9997\n",
            "Epoch 71/100\n",
            "15462/15462 [==============================] - 27s 2ms/sample - loss: 0.0011 - acc: 0.9997\n",
            "Epoch 72/100\n",
            "15462/15462 [==============================] - 27s 2ms/sample - loss: 0.0011 - acc: 0.9997\n",
            "Epoch 73/100\n",
            "15462/15462 [==============================] - 27s 2ms/sample - loss: 0.0011 - acc: 0.9997\n",
            "Epoch 74/100\n",
            "15462/15462 [==============================] - 27s 2ms/sample - loss: 0.0011 - acc: 0.9997\n",
            "Epoch 75/100\n",
            "15462/15462 [==============================] - 27s 2ms/sample - loss: 0.0011 - acc: 0.9997\n",
            "Epoch 76/100\n",
            "15462/15462 [==============================] - 27s 2ms/sample - loss: 0.0011 - acc: 0.9997\n",
            "Epoch 77/100\n",
            "15462/15462 [==============================] - 27s 2ms/sample - loss: 0.0011 - acc: 0.9997\n",
            "Epoch 78/100\n",
            "15462/15462 [==============================] - 27s 2ms/sample - loss: 0.0011 - acc: 0.9997\n",
            "Epoch 79/100\n",
            "15462/15462 [==============================] - 27s 2ms/sample - loss: 0.0011 - acc: 0.9997\n",
            "Epoch 80/100\n",
            "15462/15462 [==============================] - 27s 2ms/sample - loss: 0.0011 - acc: 0.9997\n",
            "Epoch 81/100\n",
            "15462/15462 [==============================] - 27s 2ms/sample - loss: 0.0011 - acc: 0.9997\n",
            "Epoch 82/100\n",
            "15462/15462 [==============================] - 27s 2ms/sample - loss: 0.0011 - acc: 0.9997\n",
            "Epoch 83/100\n",
            "15462/15462 [==============================] - 27s 2ms/sample - loss: 0.0011 - acc: 0.9997\n",
            "Epoch 84/100\n",
            "15462/15462 [==============================] - 27s 2ms/sample - loss: 0.0011 - acc: 0.9997\n",
            "Epoch 85/100\n",
            "15462/15462 [==============================] - 27s 2ms/sample - loss: 0.0011 - acc: 0.9997\n",
            "Epoch 86/100\n",
            "15462/15462 [==============================] - 27s 2ms/sample - loss: 0.0011 - acc: 0.9997\n",
            "Epoch 87/100\n",
            "15462/15462 [==============================] - 27s 2ms/sample - loss: 0.0011 - acc: 0.9997\n",
            "Epoch 88/100\n",
            "15462/15462 [==============================] - 27s 2ms/sample - loss: 0.0011 - acc: 0.9997\n",
            "Epoch 89/100\n",
            "15462/15462 [==============================] - 27s 2ms/sample - loss: 0.0011 - acc: 0.9997\n",
            "Epoch 90/100\n",
            "15462/15462 [==============================] - 26s 2ms/sample - loss: 0.0011 - acc: 0.9997\n",
            "Epoch 91/100\n",
            "15462/15462 [==============================] - 27s 2ms/sample - loss: 0.0011 - acc: 0.9997\n",
            "Epoch 92/100\n",
            "15462/15462 [==============================] - 27s 2ms/sample - loss: 0.0011 - acc: 0.9997\n",
            "Epoch 93/100\n",
            "15462/15462 [==============================] - 27s 2ms/sample - loss: 0.0011 - acc: 0.9997\n",
            "Epoch 94/100\n",
            "15462/15462 [==============================] - 27s 2ms/sample - loss: 0.0011 - acc: 0.9997\n",
            "Epoch 95/100\n",
            "15462/15462 [==============================] - 27s 2ms/sample - loss: 0.0011 - acc: 0.9997\n",
            "Epoch 96/100\n",
            "15462/15462 [==============================] - 26s 2ms/sample - loss: 0.0011 - acc: 0.9997\n",
            "Epoch 97/100\n",
            "15462/15462 [==============================] - 27s 2ms/sample - loss: 0.0011 - acc: 0.9997\n",
            "Epoch 98/100\n",
            "15462/15462 [==============================] - 27s 2ms/sample - loss: 0.0011 - acc: 0.9997\n",
            "Epoch 99/100\n",
            "15462/15462 [==============================] - 27s 2ms/sample - loss: 0.0011 - acc: 0.9997\n",
            "Epoch 100/100\n",
            "15462/15462 [==============================] - 27s 2ms/sample - loss: 0.0011 - acc: 0.9997\n"
          ],
          "name": "stdout"
        }
      ]
    },
    {
      "cell_type": "code",
      "metadata": {
        "id": "1fXTEO3GJ282",
        "colab_type": "code",
        "outputId": "9ce9b534-fc16-4585-f598-48e7f30871bd",
        "colab": {
          "base_uri": "https://localhost:8080/",
          "height": 545
        }
      },
      "source": [
        "import matplotlib.pyplot as plt\n",
        "acc = history.history['acc']\n",
        "loss = history.history['loss']\n",
        "\n",
        "epochs = range(len(acc))\n",
        "\n",
        "plt.plot(epochs, acc, 'b', label='Training accuracy')\n",
        "plt.title('Training accuracy')\n",
        "\n",
        "plt.figure()\n",
        "\n",
        "plt.plot(epochs, loss, 'b', label='Training Loss')\n",
        "plt.title('Training loss')\n",
        "plt.legend()\n",
        "\n",
        "plt.show()"
      ],
      "execution_count": 0,
      "outputs": [
        {
          "output_type": "display_data",
          "data": {
            "image/png": "[encoded data removed]",
            "text/plain": [
              "<Figure size 432x288 with 1 Axes>"
            ]
          },
          "metadata": {
            "tags": []
          }
        },
        {
          "output_type": "display_data",
          "data": {
            "image/png": "[encoded data removed]",
            "text/plain": [
              "<Figure size 432x288 with 1 Axes>"
            ]
          },
          "metadata": {
            "tags": []
          }
        }
      ]
    },
    {
      "cell_type": "code",
      "metadata": {
        "id": "6Vc6PHgxa6Hm",
        "colab_type": "code",
        "outputId": "a259219e-582b-4162-f1a3-ff95d49ea3c0",
        "colab": {
          "base_uri": "https://localhost:8080/",
          "height": 54
        }
      },
      "source": [
        "seed_text = \"Help me Obi Wan Kenobi, you're my only hope\"\n",
        "next_words = 100\n",
        "  \n",
        "for _ in range(next_words):\n",
        "\ttoken_list = tokenizer.texts_to_sequences([seed_text])[0]\n",
        "\ttoken_list = pad_sequences([token_list], maxlen=max_sequence_len-1, padding='pre')\n",
        "\tpredicted = model.predict_classes(token_list, verbose=0)\n",
        "\toutput_word = \"\"\n",
        "\tfor word, index in tokenizer.word_index.items():\n",
        "\t\tif index == predicted:\n",
        "\t\t\toutput_word = word\n",
        "\t\t\tbreak\n",
        "\tseed_text += \" \" + output_word\n",
        "print(seed_text)"
      ],
      "execution_count": 0,
      "outputs": [
        {
          "output_type": "stream",
          "text": [
            "Help me Obi Wan Kenobi, you're my only hope to die my fill me thence i know she be self kill'd thou art my used as pitying my friend where i did proceed gone so blessed never befits his visage hide me now do defence defence reign leave from thee i speed be borne alone one respect bide thee more delight sad summers' pride ' from thence be borne alone i am near 'will ' ' ' ' out back my five senses of men hours and bristly beard very in thee i know thy wrong life their burn time stay a curse ill ill ill light in my\n"
          ],
          "name": "stdout"
        }
      ]
    }
  ]
}